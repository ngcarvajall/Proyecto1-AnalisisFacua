{
 "cells": [
  {
   "cell_type": "code",
   "execution_count": 1,
   "metadata": {},
   "outputs": [],
   "source": [
    "from bs4 import BeautifulSoup\n",
    "import random\n",
    "# Requests\n",
    "import requests\n",
    "from tqdm import tqdm\n",
    "import pandas as pd\n",
    "import numpy as np\n",
    "import sys\n",
    "\n",
    "sys.path.append(\"..\")\n",
    "\n",
    "from src.funciones import obtener_url_decat_deproducto, obtener_url_decat_deproducto2, scrapeo"
   ]
  },
  {
   "cell_type": "code",
   "execution_count": 2,
   "metadata": {},
   "outputs": [],
   "source": [
    "# def obtener_url_decat_deproducto(url):\n",
    "#     link = requests.get(url)\n",
    "#     print('Hemos hecho el requests, vamos al if')\n",
    "#     if link.status_code == 200:\n",
    "#         sopa = BeautifulSoup(link.content, \"html.parser\")\n",
    "#         lista_de_cajas = sopa.findAll('div', {'class': \"card h-100\"})\n",
    "#         lista_href = []\n",
    "#         for i in range(len(lista_de_cajas)):\n",
    "#             h_ref = lista_de_cajas[i].find(\"a\").get('href')\n",
    "#             lista_href.append(h_ref)\n",
    "#     else:\n",
    "#         print(f'El status code es {link.status_code}')\n",
    "#     return lista_href\n"
   ]
  },
  {
   "cell_type": "code",
   "execution_count": 3,
   "metadata": {},
   "outputs": [],
   "source": [
    "# def obtener_url_decat_deproducto2(url):\n",
    "#     link = requests.get(url)\n",
    "#     print('Hemos hecho el requests, vamos al if')\n",
    "#     if link.status_code == 200:\n",
    "#         sopa = BeautifulSoup(link.content, \"html.parser\")\n",
    "#         lista_de_cajas = sopa.findAll('div', {'class': \"card h-100\"})\n",
    "#         lista_href = []\n",
    "#         for i in range(len(lista_de_cajas)):\n",
    "#             if lista_de_cajas[i].find('a').text == 'Histórico':\n",
    "#                 h_ref = lista_de_cajas[i].find(\"a\").get('href')\n",
    "#                 lista_href.append(h_ref)\n",
    "#     else:\n",
    "#         print(f'El status code es {link.status_code}')\n",
    "#     return lista_href\n"
   ]
  },
  {
   "cell_type": "code",
   "execution_count": 4,
   "metadata": {},
   "outputs": [
    {
     "data": {
      "text/plain": [
       "['https://super.facua.org/mercadona',\n",
       " 'https://super.facua.org/carrefour',\n",
       " 'https://super.facua.org/eroski',\n",
       " 'https://super.facua.org/dia',\n",
       " 'https://super.facua.org/hipercor',\n",
       " 'https://super.facua.org/alcampo']"
      ]
     },
     "execution_count": 4,
     "metadata": {},
     "output_type": "execute_result"
    }
   ],
   "source": [
    "lista_supermercados = ['mercadona', 'carrefour', 'eroski', 'dia', 'hipercor', 'alcampo']\n",
    "lista_webs = []\n",
    "for i in lista_supermercados:\n",
    "    url_supermercado = f'https://super.facua.org/{i}'\n",
    "    lista_webs.append(url_supermercado)\n",
    "\n",
    "lista_webs"
   ]
  },
  {
   "cell_type": "code",
   "execution_count": 5,
   "metadata": {},
   "outputs": [
    {
     "name": "stdout",
     "output_type": "stream",
     "text": [
      "Hemos hecho el requests, vamos al if\n",
      "Hemos hecho el requests, vamos al if\n",
      "Hemos hecho el requests, vamos al if\n",
      "Hemos hecho el requests, vamos al if\n",
      "Hemos hecho el requests, vamos al if\n",
      "Hemos hecho el requests, vamos al if\n"
     ]
    }
   ],
   "source": [
    "lista_categorias_supermercados = []\n",
    "for i in lista_webs:\n",
    "    hrefs = obtener_url_decat_deproducto(i)\n",
    "    lista_categorias_supermercados.append(hrefs)"
   ]
  },
  {
   "cell_type": "code",
   "execution_count": 6,
   "metadata": {},
   "outputs": [
    {
     "name": "stdout",
     "output_type": "stream",
     "text": [
      "6\n",
      "3\n"
     ]
    }
   ],
   "source": [
    "print(len(lista_categorias_supermercados))\n",
    "print(len(lista_categorias_supermercados[0]))"
   ]
  },
  {
   "cell_type": "code",
   "execution_count": 7,
   "metadata": {},
   "outputs": [
    {
     "data": {
      "text/plain": [
       "[['https://super.facua.org/mercadona/aceite-de-girasol/',\n",
       "  'https://super.facua.org/mercadona/aceite-de-oliva/',\n",
       "  'https://super.facua.org/mercadona/leche/'],\n",
       " ['https://super.facua.org/carrefour/aceite-de-girasol/',\n",
       "  'https://super.facua.org/carrefour/aceite-de-oliva/',\n",
       "  'https://super.facua.org/carrefour/leche/'],\n",
       " ['https://super.facua.org/eroski/aceite-de-girasol/',\n",
       "  'https://super.facua.org/eroski/aceite-de-oliva/',\n",
       "  'https://super.facua.org/eroski/leche/'],\n",
       " ['https://super.facua.org/dia/aceite-de-girasol/',\n",
       "  'https://super.facua.org/dia/aceite-de-oliva/',\n",
       "  'https://super.facua.org/dia/leche/'],\n",
       " ['https://super.facua.org/hipercor/aceite-de-girasol/',\n",
       "  'https://super.facua.org/hipercor/aceite-de-oliva/',\n",
       "  'https://super.facua.org/hipercor/leche/'],\n",
       " ['https://super.facua.org/alcampo/aceite-de-girasol/',\n",
       "  'https://super.facua.org/alcampo/aceite-de-oliva/',\n",
       "  'https://super.facua.org/alcampo/leche/']]"
      ]
     },
     "execution_count": 7,
     "metadata": {},
     "output_type": "execute_result"
    }
   ],
   "source": [
    "lista_categorias_supermercados\n",
    "# lista_categorias_supermercados"
   ]
  },
  {
   "cell_type": "code",
   "execution_count": 8,
   "metadata": {},
   "outputs": [
    {
     "name": "stdout",
     "output_type": "stream",
     "text": [
      "Hemos hecho el requests, vamos al if\n",
      "Hemos hecho el requests, vamos al if\n",
      "Hemos hecho el requests, vamos al if\n",
      "Hemos hecho el requests, vamos al if\n",
      "Hemos hecho el requests, vamos al if\n",
      "Hemos hecho el requests, vamos al if\n",
      "Hemos hecho el requests, vamos al if\n",
      "Hemos hecho el requests, vamos al if\n",
      "Hemos hecho el requests, vamos al if\n",
      "Hemos hecho el requests, vamos al if\n",
      "Hemos hecho el requests, vamos al if\n",
      "Hemos hecho el requests, vamos al if\n",
      "Hemos hecho el requests, vamos al if\n",
      "Hemos hecho el requests, vamos al if\n",
      "Hemos hecho el requests, vamos al if\n",
      "Hemos hecho el requests, vamos al if\n",
      "Hemos hecho el requests, vamos al if\n",
      "Hemos hecho el requests, vamos al if\n"
     ]
    }
   ],
   "source": [
    "lista_hrefs_articulos_totales_supermercados = []\n",
    "for i in range(len(lista_categorias_supermercados)):\n",
    "    for href in (lista_categorias_supermercados[i]):\n",
    "        lista_href_productos_supermercados = obtener_url_decat_deproducto2(href)\n",
    "        lista_hrefs_articulos_totales_supermercados.append(lista_href_productos_supermercados)\n"
   ]
  },
  {
   "cell_type": "code",
   "execution_count": 17,
   "metadata": {},
   "outputs": [
    {
     "data": {
      "text/plain": [
       "['https://super.facua.org/mercadona/aceite-de-girasol/aceite-de-girasol-refinado-02-hacendado-1-l/',\n",
       " 'https://super.facua.org/mercadona/aceite-de-girasol/aceite-de-girasol-refinado-02-hacendado-5-l/']"
      ]
     },
     "execution_count": 17,
     "metadata": {},
     "output_type": "execute_result"
    }
   ],
   "source": [
    "lista_hrefs_articulos_totales_supermercados[0]"
   ]
  },
  {
   "cell_type": "code",
   "execution_count": 11,
   "metadata": {},
   "outputs": [],
   "source": [
    "df = pd.DataFrame()"
   ]
  },
  {
   "cell_type": "code",
   "execution_count": 12,
   "metadata": {},
   "outputs": [
    {
     "name": "stderr",
     "output_type": "stream",
     "text": [
      "  0%|          | 0/18 [00:00<?, ?it/s]"
     ]
    },
    {
     "name": "stderr",
     "output_type": "stream",
     "text": [
      "100%|██████████| 18/18 [05:49<00:00, 19.40s/it]\n"
     ]
    }
   ],
   "source": [
    "# df1 = pd.DataFrame()\n",
    "df2 = pd.DataFrame()\n",
    "for i in tqdm(range(len(lista_hrefs_articulos_totales_supermercados))):\n",
    "    for href in (lista_hrefs_articulos_totales_supermercados[i]):\n",
    "        df3 = scrapeo(href)\n",
    "        df3['Supermercado'] = href.split('/')[-4]\n",
    "        df3['Categoría'] = href.split('/')[-3]\n",
    "        df3['Artículo'] = href.split('/')[-2]\n",
    "        df2 = pd.concat([df2,df3])\n",
    "    "
   ]
  },
  {
   "cell_type": "code",
   "execution_count": 18,
   "metadata": {},
   "outputs": [
    {
     "data": {
      "text/html": [
       "<div>\n",
       "<style scoped>\n",
       "    .dataframe tbody tr th:only-of-type {\n",
       "        vertical-align: middle;\n",
       "    }\n",
       "\n",
       "    .dataframe tbody tr th {\n",
       "        vertical-align: top;\n",
       "    }\n",
       "\n",
       "    .dataframe thead th {\n",
       "        text-align: right;\n",
       "    }\n",
       "</style>\n",
       "<table border=\"1\" class=\"dataframe\">\n",
       "  <thead>\n",
       "    <tr style=\"text-align: right;\">\n",
       "      <th></th>\n",
       "      <th>Día</th>\n",
       "      <th>Precio (€)</th>\n",
       "      <th>Variación</th>\n",
       "      <th>Supermercado</th>\n",
       "      <th>Categoría</th>\n",
       "      <th>Artículo</th>\n",
       "    </tr>\n",
       "  </thead>\n",
       "  <tbody>\n",
       "    <tr>\n",
       "      <th>0</th>\n",
       "      <td>12/07/2024</td>\n",
       "      <td>1,45</td>\n",
       "      <td>=</td>\n",
       "      <td>mercadona</td>\n",
       "      <td>aceite-de-girasol</td>\n",
       "      <td>aceite-de-girasol-refinado-02-hacendado-1-l</td>\n",
       "    </tr>\n",
       "    <tr>\n",
       "      <th>1</th>\n",
       "      <td>13/07/2024</td>\n",
       "      <td>1,45</td>\n",
       "      <td>=</td>\n",
       "      <td>mercadona</td>\n",
       "      <td>aceite-de-girasol</td>\n",
       "      <td>aceite-de-girasol-refinado-02-hacendado-1-l</td>\n",
       "    </tr>\n",
       "    <tr>\n",
       "      <th>2</th>\n",
       "      <td>14/07/2024</td>\n",
       "      <td>1,45</td>\n",
       "      <td>=</td>\n",
       "      <td>mercadona</td>\n",
       "      <td>aceite-de-girasol</td>\n",
       "      <td>aceite-de-girasol-refinado-02-hacendado-1-l</td>\n",
       "    </tr>\n",
       "    <tr>\n",
       "      <th>3</th>\n",
       "      <td>15/07/2024</td>\n",
       "      <td>1,45</td>\n",
       "      <td>=</td>\n",
       "      <td>mercadona</td>\n",
       "      <td>aceite-de-girasol</td>\n",
       "      <td>aceite-de-girasol-refinado-02-hacendado-1-l</td>\n",
       "    </tr>\n",
       "    <tr>\n",
       "      <th>4</th>\n",
       "      <td>16/07/2024</td>\n",
       "      <td>1,45</td>\n",
       "      <td>=</td>\n",
       "      <td>mercadona</td>\n",
       "      <td>aceite-de-girasol</td>\n",
       "      <td>aceite-de-girasol-refinado-02-hacendado-1-l</td>\n",
       "    </tr>\n",
       "  </tbody>\n",
       "</table>\n",
       "</div>"
      ],
      "text/plain": [
       "          Día Precio (€) Variación Supermercado          Categoría  \\\n",
       "0  12/07/2024       1,45         =    mercadona  aceite-de-girasol   \n",
       "1  13/07/2024       1,45         =    mercadona  aceite-de-girasol   \n",
       "2  14/07/2024       1,45         =    mercadona  aceite-de-girasol   \n",
       "3  15/07/2024       1,45         =    mercadona  aceite-de-girasol   \n",
       "4  16/07/2024       1,45         =    mercadona  aceite-de-girasol   \n",
       "\n",
       "                                      Artículo  \n",
       "0  aceite-de-girasol-refinado-02-hacendado-1-l  \n",
       "1  aceite-de-girasol-refinado-02-hacendado-1-l  \n",
       "2  aceite-de-girasol-refinado-02-hacendado-1-l  \n",
       "3  aceite-de-girasol-refinado-02-hacendado-1-l  \n",
       "4  aceite-de-girasol-refinado-02-hacendado-1-l  "
      ]
     },
     "execution_count": 18,
     "metadata": {},
     "output_type": "execute_result"
    }
   ],
   "source": [
    "df2.head()"
   ]
  },
  {
   "cell_type": "code",
   "execution_count": 19,
   "metadata": {},
   "outputs": [
    {
     "data": {
      "text/plain": [
       "Día             object\n",
       "Precio (€)      object\n",
       "Variación       object\n",
       "Supermercado    object\n",
       "Categoría       object\n",
       "Artículo        object\n",
       "dtype: object"
      ]
     },
     "execution_count": 19,
     "metadata": {},
     "output_type": "execute_result"
    }
   ],
   "source": [
    "df2.dtypes"
   ]
  },
  {
   "cell_type": "code",
   "execution_count": 21,
   "metadata": {},
   "outputs": [
    {
     "name": "stdout",
     "output_type": "stream",
     "text": [
      "<class 'pandas.core.frame.DataFrame'>\n",
      "Index: 133349 entries, 0 to 41\n",
      "Data columns (total 6 columns):\n",
      " #   Column        Non-Null Count   Dtype \n",
      "---  ------        --------------   ----- \n",
      " 0   Día           133349 non-null  object\n",
      " 1   Precio (€)    133349 non-null  object\n",
      " 2   Variación     133349 non-null  object\n",
      " 3   Supermercado  133349 non-null  object\n",
      " 4   Categoría     133349 non-null  object\n",
      " 5   Artículo      133349 non-null  object\n",
      "dtypes: object(6)\n",
      "memory usage: 7.1+ MB\n"
     ]
    }
   ],
   "source": [
    "df2.info()"
   ]
  },
  {
   "cell_type": "code",
   "execution_count": 27,
   "metadata": {},
   "outputs": [],
   "source": [
    "df2['Precio (€)'] = df2['Precio (€)'].str.replace(',', '.')"
   ]
  },
  {
   "cell_type": "code",
   "execution_count": 28,
   "metadata": {},
   "outputs": [
    {
     "data": {
      "text/html": [
       "<div>\n",
       "<style scoped>\n",
       "    .dataframe tbody tr th:only-of-type {\n",
       "        vertical-align: middle;\n",
       "    }\n",
       "\n",
       "    .dataframe tbody tr th {\n",
       "        vertical-align: top;\n",
       "    }\n",
       "\n",
       "    .dataframe thead th {\n",
       "        text-align: right;\n",
       "    }\n",
       "</style>\n",
       "<table border=\"1\" class=\"dataframe\">\n",
       "  <thead>\n",
       "    <tr style=\"text-align: right;\">\n",
       "      <th></th>\n",
       "      <th>Día</th>\n",
       "      <th>Precio (€)</th>\n",
       "      <th>Variación</th>\n",
       "      <th>Supermercado</th>\n",
       "      <th>Categoría</th>\n",
       "      <th>Artículo</th>\n",
       "    </tr>\n",
       "  </thead>\n",
       "  <tbody>\n",
       "    <tr>\n",
       "      <th>108</th>\n",
       "      <td>13/10/2024</td>\n",
       "      <td>8.15</td>\n",
       "      <td>=</td>\n",
       "      <td>alcampo</td>\n",
       "      <td>aceite-de-oliva</td>\n",
       "      <td>ybarra-aceite-de-oliva-suave-botella-1-l</td>\n",
       "    </tr>\n",
       "  </tbody>\n",
       "</table>\n",
       "</div>"
      ],
      "text/plain": [
       "            Día Precio (€) Variación Supermercado        Categoría  \\\n",
       "108  13/10/2024       8.15         =      alcampo  aceite-de-oliva   \n",
       "\n",
       "                                     Artículo  \n",
       "108  ybarra-aceite-de-oliva-suave-botella-1-l  "
      ]
     },
     "execution_count": 28,
     "metadata": {},
     "output_type": "execute_result"
    }
   ],
   "source": [
    "df2.sample()"
   ]
  },
  {
   "cell_type": "code",
   "execution_count": 30,
   "metadata": {},
   "outputs": [],
   "source": [
    "df2['Precio (€)'] =  df2['Precio (€)'].astype(float)"
   ]
  },
  {
   "cell_type": "code",
   "execution_count": 32,
   "metadata": {},
   "outputs": [
    {
     "name": "stdout",
     "output_type": "stream",
     "text": [
      "<class 'pandas.core.frame.DataFrame'>\n",
      "Index: 133349 entries, 0 to 41\n",
      "Data columns (total 6 columns):\n",
      " #   Column        Non-Null Count   Dtype  \n",
      "---  ------        --------------   -----  \n",
      " 0   Día           133349 non-null  object \n",
      " 1   Precio (€)    133349 non-null  float64\n",
      " 2   Variación     133349 non-null  object \n",
      " 3   Supermercado  133349 non-null  object \n",
      " 4   Categoría     133349 non-null  object \n",
      " 5   Artículo      133349 non-null  object \n",
      "dtypes: float64(1), object(5)\n",
      "memory usage: 7.1+ MB\n"
     ]
    }
   ],
   "source": [
    "df2.info()"
   ]
  },
  {
   "cell_type": "code",
   "execution_count": 36,
   "metadata": {},
   "outputs": [],
   "source": [
    "df2['Día'] = pd.to_datetime(df2['Día'], format = \"%d/%m/%Y\")"
   ]
  },
  {
   "cell_type": "code",
   "execution_count": 126,
   "metadata": {},
   "outputs": [
    {
     "data": {
      "text/html": [
       "<div>\n",
       "<style scoped>\n",
       "    .dataframe tbody tr th:only-of-type {\n",
       "        vertical-align: middle;\n",
       "    }\n",
       "\n",
       "    .dataframe tbody tr th {\n",
       "        vertical-align: top;\n",
       "    }\n",
       "\n",
       "    .dataframe thead th {\n",
       "        text-align: right;\n",
       "    }\n",
       "</style>\n",
       "<table border=\"1\" class=\"dataframe\">\n",
       "  <thead>\n",
       "    <tr style=\"text-align: right;\">\n",
       "      <th></th>\n",
       "      <th>Día</th>\n",
       "      <th>Precio (€)</th>\n",
       "      <th>Variación</th>\n",
       "      <th>Supermercado</th>\n",
       "      <th>Categoría</th>\n",
       "      <th>Artículo</th>\n",
       "    </tr>\n",
       "  </thead>\n",
       "  <tbody>\n",
       "    <tr>\n",
       "      <th>0</th>\n",
       "      <td>2024-07-12</td>\n",
       "      <td>1.45</td>\n",
       "      <td>=</td>\n",
       "      <td>mercadona</td>\n",
       "      <td>aceite-de-girasol</td>\n",
       "      <td>aceite-de-girasol-refinado-02-hacendado-1-l</td>\n",
       "    </tr>\n",
       "    <tr>\n",
       "      <th>1</th>\n",
       "      <td>2024-07-13</td>\n",
       "      <td>1.45</td>\n",
       "      <td>=</td>\n",
       "      <td>mercadona</td>\n",
       "      <td>aceite-de-girasol</td>\n",
       "      <td>aceite-de-girasol-refinado-02-hacendado-1-l</td>\n",
       "    </tr>\n",
       "    <tr>\n",
       "      <th>2</th>\n",
       "      <td>2024-07-14</td>\n",
       "      <td>1.45</td>\n",
       "      <td>=</td>\n",
       "      <td>mercadona</td>\n",
       "      <td>aceite-de-girasol</td>\n",
       "      <td>aceite-de-girasol-refinado-02-hacendado-1-l</td>\n",
       "    </tr>\n",
       "    <tr>\n",
       "      <th>3</th>\n",
       "      <td>2024-07-15</td>\n",
       "      <td>1.45</td>\n",
       "      <td>=</td>\n",
       "      <td>mercadona</td>\n",
       "      <td>aceite-de-girasol</td>\n",
       "      <td>aceite-de-girasol-refinado-02-hacendado-1-l</td>\n",
       "    </tr>\n",
       "    <tr>\n",
       "      <th>4</th>\n",
       "      <td>2024-07-16</td>\n",
       "      <td>1.45</td>\n",
       "      <td>=</td>\n",
       "      <td>mercadona</td>\n",
       "      <td>aceite-de-girasol</td>\n",
       "      <td>aceite-de-girasol-refinado-02-hacendado-1-l</td>\n",
       "    </tr>\n",
       "  </tbody>\n",
       "</table>\n",
       "</div>"
      ],
      "text/plain": [
       "         Día  Precio (€) Variación Supermercado          Categoría  \\\n",
       "0 2024-07-12        1.45         =    mercadona  aceite-de-girasol   \n",
       "1 2024-07-13        1.45         =    mercadona  aceite-de-girasol   \n",
       "2 2024-07-14        1.45         =    mercadona  aceite-de-girasol   \n",
       "3 2024-07-15        1.45         =    mercadona  aceite-de-girasol   \n",
       "4 2024-07-16        1.45         =    mercadona  aceite-de-girasol   \n",
       "\n",
       "                                      Artículo  \n",
       "0  aceite-de-girasol-refinado-02-hacendado-1-l  \n",
       "1  aceite-de-girasol-refinado-02-hacendado-1-l  \n",
       "2  aceite-de-girasol-refinado-02-hacendado-1-l  \n",
       "3  aceite-de-girasol-refinado-02-hacendado-1-l  \n",
       "4  aceite-de-girasol-refinado-02-hacendado-1-l  "
      ]
     },
     "execution_count": 126,
     "metadata": {},
     "output_type": "execute_result"
    }
   ],
   "source": [
    "df2.head()"
   ]
  },
  {
   "cell_type": "code",
   "execution_count": 127,
   "metadata": {},
   "outputs": [],
   "source": [
    "df_categoria = df2[['Categoría']].drop_duplicates().reset_index(drop=True).reset_index()"
   ]
  },
  {
   "cell_type": "code",
   "execution_count": 128,
   "metadata": {},
   "outputs": [],
   "source": [
    "df_categoria.columns= ['Id_Categoria', 'Categoría']"
   ]
  },
  {
   "cell_type": "code",
   "execution_count": 129,
   "metadata": {},
   "outputs": [
    {
     "data": {
      "text/html": [
       "<div>\n",
       "<style scoped>\n",
       "    .dataframe tbody tr th:only-of-type {\n",
       "        vertical-align: middle;\n",
       "    }\n",
       "\n",
       "    .dataframe tbody tr th {\n",
       "        vertical-align: top;\n",
       "    }\n",
       "\n",
       "    .dataframe thead th {\n",
       "        text-align: right;\n",
       "    }\n",
       "</style>\n",
       "<table border=\"1\" class=\"dataframe\">\n",
       "  <thead>\n",
       "    <tr style=\"text-align: right;\">\n",
       "      <th></th>\n",
       "      <th>Id_Categoria</th>\n",
       "      <th>Categoría</th>\n",
       "    </tr>\n",
       "  </thead>\n",
       "  <tbody>\n",
       "    <tr>\n",
       "      <th>0</th>\n",
       "      <td>0</td>\n",
       "      <td>aceite-de-girasol</td>\n",
       "    </tr>\n",
       "    <tr>\n",
       "      <th>1</th>\n",
       "      <td>1</td>\n",
       "      <td>aceite-de-oliva</td>\n",
       "    </tr>\n",
       "    <tr>\n",
       "      <th>2</th>\n",
       "      <td>2</td>\n",
       "      <td>leche</td>\n",
       "    </tr>\n",
       "  </tbody>\n",
       "</table>\n",
       "</div>"
      ],
      "text/plain": [
       "   Id_Categoria          Categoría\n",
       "0             0  aceite-de-girasol\n",
       "1             1    aceite-de-oliva\n",
       "2             2              leche"
      ]
     },
     "execution_count": 129,
     "metadata": {},
     "output_type": "execute_result"
    }
   ],
   "source": [
    "df_categoria"
   ]
  },
  {
   "cell_type": "code",
   "execution_count": 130,
   "metadata": {},
   "outputs": [],
   "source": [
    "df_supermercado = df2[['Supermercado']].drop_duplicates().reset_index(drop=True).reset_index()"
   ]
  },
  {
   "cell_type": "code",
   "execution_count": 131,
   "metadata": {},
   "outputs": [],
   "source": [
    "df_supermercado.columns= ['Id_Supermercado', 'Supermercado']"
   ]
  },
  {
   "cell_type": "code",
   "execution_count": 132,
   "metadata": {},
   "outputs": [],
   "source": [
    "df_mergeo_1 = df2.merge(df_categoria, how='inner', left_on= 'Categoría', right_on= 'Categoría').drop(columns='Categoría')\n"
   ]
  },
  {
   "cell_type": "code",
   "execution_count": 133,
   "metadata": {},
   "outputs": [],
   "source": [
    "# df_mergeo_1 = df2.merge(df_supermercado, how='inner', left_on='Supermercado', right_on='Supermercado').drop(columns='Supermercado')"
   ]
  },
  {
   "cell_type": "code",
   "execution_count": 134,
   "metadata": {},
   "outputs": [],
   "source": [
    "df_mergeo_1 = df_mergeo_1.merge(df_supermercado, how='inner', left_on='Supermercado', right_on='Supermercado').drop(columns='Supermercado')"
   ]
  },
  {
   "cell_type": "code",
   "execution_count": 135,
   "metadata": {},
   "outputs": [],
   "source": [
    "df_mergeo_1['Variación'] = df_mergeo_1['Variación'].str.split(' ').str[0].str.replace(',', '.').str.replace('=', '0')\n"
   ]
  },
  {
   "cell_type": "code",
   "execution_count": 136,
   "metadata": {},
   "outputs": [
    {
     "data": {
      "text/plain": [
       "array(['0', '+0.03', '+0.16', '-0.38', '-0.67', '+0.14', '-0.34', '-1.14',\n",
       "       '-2.91', '+0.40', '-0.90', '-0.16', '-0.14', '+0.06', '-0.46',\n",
       "       '-0.24', '+0.18', '-0.28', '-1.37', '-0.73', '+0.53', '-1.28',\n",
       "       '-0.39', '-0.11', '+0.15', '-0.54', '+0.17', '-0.18', '-0.43',\n",
       "       '-0.22', '-0.40', '-0.31', '-1.25', '-0.75', '+0.47', '+0.12',\n",
       "       '-0.03', '+0.02', '-2.33', '-0.01', '-0.06', '-0.02', '-0.12',\n",
       "       '+0.50', '-0.50', '+0.24', '+0.22', '+0.30', '-0.30', '+0.10',\n",
       "       '-0.07', '+0.07', '-0.78', '+0.88', '-0.88', '+0.41', '+0.20',\n",
       "       '-0.20', '-0.60', '+0.80', '-0.76', '-2.34', '+2.06', '-2.20',\n",
       "       '-1.00', '+1.20', '-0.10', '+0.04', '-0.04', '+3.63', '-1.67',\n",
       "       '-3.24', '+1.28', '-1.20', '-0.44', '+0.44', '-2.30', '+2.49',\n",
       "       '-0.66', '+18.68', '-8.03', '-12.95', '+15.75', '-16.25', '+16.25',\n",
       "       '+1.00', '-18.25', '+18.25', '-1.84', '+0.46', '+0.90', '-1.40',\n",
       "       '+0.33', '-0.65', '-1.80', '-2.00', '+1.91', '-4.81', '-0.64',\n",
       "       '-0.59', '+0.01', '-0.87', '+0.87', '-0.92', '+0.92', '+10.15',\n",
       "       '-2.36', '-9.79', '+9.45', '-1.90', '-12.05', '+12.51', '-12.51',\n",
       "       '+0.93', '-14.78', '+1.04', '-1.93', '+17.06', '-6.41', '+14.35',\n",
       "       '-14.85', '+14.85', '+0.98', '-16.83', '-3.29', '-2.13', '-4.67',\n",
       "       '+2.30', '+1.90', '+0.76', '+1.85', '-1.59', '+0.66', '+0.91',\n",
       "       '-0.95', '-6.05', '+13.35', '-2.35', '+3.42', '-0.26', '-0.35',\n",
       "       '-2.08', '-1.72', '-2.50', '+3.05', '-1.50', '-1.55', '+1.55',\n",
       "       '-1.87', '-0.05', '+0.08', '-1.04', '+0.29', '-0.77', '-0.69',\n",
       "       '+0.69', '-0.68', '-1.22', '+0.26', '+2.14', '-0.94', '-4.20',\n",
       "       '+5.08', '+0.60', '+0.28', '-1.09', '-0.23', '+0.09', '-3.00',\n",
       "       '-3.40', '+1.70', '-13.05', '+13.05', '+1.12', '-16.17', '-0.25',\n",
       "       '-1.27', '-0.15', '+15.87', '-15.95', '+9.65', '+1.60', '-13.95',\n",
       "       '+13.95', '+1.06', '+0.77', '+0.21', '-2.51', '-12.34', '+12.35',\n",
       "       '+1.13', '+0.27', '+0.70', '-0.36', '+1.03', '+0.05', '+3.10',\n",
       "       '+1.09', '-0.52', '+0.56', '-0.55', '+3.26', '+0.74', '-1.61',\n",
       "       '+5.20', '+0.75', '+0.81', '-1.60', '+0.32', '-0.57', '+0.23',\n",
       "       '+0.25', '-0.56', '-0.70', '+0.86', '-0.47', '-0.91', '-1.78',\n",
       "       '-0.09', '+0.84', '-0.49', '-3.02', '-3.78', '-13.45', '+13.45',\n",
       "       '-16.90', '+18.07', '-0.72', '-0.42', '-0.74', '-0.08', '+1.40',\n",
       "       '+0.37', '+0.19', '-0.21', '-0.45', '-0.48', '-0.82', '+0.94',\n",
       "       '-2.84', '-15.91', '+15.95', '-7.90', '-10.05', '+11.55', '-11.51',\n",
       "       '-3.04', '+15.56', '+0.11', '+0.36', '-0.19', '+0.38', '-0.32',\n",
       "       '-0.27', '+0.13', '+0.31', '-0.17', '-0.29', '-1.10', '+1.10',\n",
       "       '+0.72', '-0.41', '+0.51', '-1.26', '+1.26', '-1.33', '-2.61',\n",
       "       '+2.61', '-2.38', '+4.26', '-3.76', '+3.76', '+0.45', '+0.35',\n",
       "       '+0.96', '-0.62', '+0.62', '-4.39', '+3.33', '-1.06', '+0.63',\n",
       "       '-3.91', '-1.21', '+9.01', '+12.34', '-4.76', '+0.57', '-7.15',\n",
       "       '+1.34', '-1.97', '-15.68', '+15.68', '-20.69', '+20.69', '-7.81',\n",
       "       '+0.95', '-13.38', '-2.83', '-6.09', '+1.01', '-1.85', '+2.38',\n",
       "       '-0.51', '-5.76', '-1.05', '+1.05', '-1.56', '+1.56', '-1.74',\n",
       "       '+4.51', '-4.48', '+4.48', '-0.13', '-1.11', '-4.09', '+4.09',\n",
       "       '-3.90', '+3.90', '+0.49', '-1.17', '-3.96', '+0.68', '-2.42',\n",
       "       '+5.46', '-0.99', '-1.49', '-3.37', '-5.18', '-5.04', '+5.65',\n",
       "       '-0.85', '-4.80', '+4.80', '-0.93', '-1.88', '+1.88', '-1.42',\n",
       "       '+1.42', '-4.74', '+4.30', '+0.67', '-1.81', '-2.19', '-9.50',\n",
       "       '+9.50', '-1.66', '-5.59', '+5.32', '+0.82', '+1.59', '-0.97',\n",
       "       '-5.06', '+5.61', '-2.11', '-0.81', '+0.89', '-2.37', '+2.37',\n",
       "       '-1.12', '-1.08', '+1.08', '-0.71', '-4.65', '-2.89', '-4.86',\n",
       "       '+4.86', '-3.75', '-1.54', '+1.54', '-1.64', '-1.39', '+1.39',\n",
       "       '+1.64', '-1.15', '-0.84', '+1.15', '+0.34', '+0.99', '-10.09',\n",
       "       '+7.33', '-3.08', '-4.85', '-0.33', '-3.45', '+2.64', '+2.82',\n",
       "       '-1.51', '+1.71', '-2.52', '+2.19', '+6.91', '-9.05', '+9.05',\n",
       "       '-4.29', '-5.62', '+5.62', '-1.63', '+0.65', '-6.47', '-0.86',\n",
       "       '-0.37', '-2.09', '+0.78', '-2.23', '-1.82', '+2.01', '-1.01',\n",
       "       '-0.80', '-3.15', '-1.83', '-4.27', '+4.27', '+0.54', '-1.35',\n",
       "       '-1.24', '-0.89', '+0.43', '-3.88', '-3.82', '+3.82', '-3.80',\n",
       "       '+3.80', '-3.32', '-1.13', '-1.89', '-3.31', '-3.30', '+3.30',\n",
       "       '+4.35', '+3.45', '-4.83', '+4.83', '-2.86', '+2.86', '-4.54',\n",
       "       '+4.54', '-1.29', '-1.38', '-1.30', '+1.80', '+1.38', '-1.44',\n",
       "       '+1.44', '+0.42', '+1.14', '+0.58', '-4.51', '+4.61', '-4.64',\n",
       "       '-1.75', '+1.75', '-2.45', '+2.45', '+5.25', '-8.75', '+8.75',\n",
       "       '-12.25', '+12.25', '-7.99', '+1.35', '+0.55', '+1.25', '-1.95',\n",
       "       '+1.95', '+0.85', '+2.75', '-6.25', '+6.25', '-9.75', '+4.36',\n",
       "       '-1.18', '+1.11', '-1.68', '+1.17', '-3.71', '-2.82', '+2.57',\n",
       "       '-2.58', '+2.58', '-2.74', '+2.74', '+1.27', '+10.44', '-9.80',\n",
       "       '+5.05', '-5.05', '+7.42', '+2.97', '-5.51', '+5.51', '-2.76',\n",
       "       '-17.11', '+9.29', '-9.93', '+9.93', '-12.79', '+12.79', '-15.13',\n",
       "       '+0.64', '+10.06', '-9.96', '-12.68', '+1.18', '-0.63', '+4.77',\n",
       "       '-4.66', '+4.66', '-6.72', '+6.72', '-6.16', '+3.55', '-1.94',\n",
       "       '+3.59', '-4.10', '+4.10', '+2.13', '-1.36', '+1.36', '-1.76',\n",
       "       '+1.76', '-2.21', '+2.21', '+0.52', '-0.98', '-18.30', '-2.26',\n",
       "       '+17.58', '-6.19', '-10.12', '-1.77', '+11.89', '-13.63', '+8.76',\n",
       "       '-11.63', '+11.63', '-11.05', '+11.05', '-3.72', '-7.39', '+7.39',\n",
       "       '-7.35', '+6.46', '-6.50', '+18.53', '-18.53', '+10.92', '-11.44',\n",
       "       '+11.44', '-13.34', '+10.03', '-10.46', '+11.45', '-2.16', '+2.16',\n",
       "       '+2.41', '+1.74', '+1.98', '-1.96', '-2.39', '+1.94', '-1.16',\n",
       "       '+1.16', '-2.02', '+2.02', '-2.17', '+2.17', '-2.31', '-5.93',\n",
       "       '+14.33', '-14.01', '+9.40', '-11.49', '+11.49', '-11.40',\n",
       "       '+11.40', '-13.44', '+13.44', '-14.43', '+14.43', '-1.52', '-6.64',\n",
       "       '+6.78', '+14.60', '-14.55', '+8.04', '-11.00', '+11.00', '-14.02',\n",
       "       '+14.02', '+1.30', '-6.73', '-3.01', '+0.83', '-3.63', '-2.28',\n",
       "       '+3.09', '-3.09', '-10.00', '+8.91', '+1.23', '+6.44', '+0.48',\n",
       "       '-2.72', '+2.72', '+4.55', '+3.74', '-3.84', '+1.67', '+1.41',\n",
       "       '-0.58', '-1.58', '-0.53', '-3.03', '+4.16', '-3.50', '+3.50',\n",
       "       '-3.49', '+14.55', '-13.55', '+14.79', '-15.46', '+1.77', '-1.02',\n",
       "       '+2.48', '+3.01', '-2.05', '+2.10', '-1.41', '+1.24', '+0.71',\n",
       "       '-4.53', '+4.15', '+10.67', '-10.24', '+5.33', '-6.53', '+6.53',\n",
       "       '-4.33', '-6.01', '+6.01', '+11.43', '-11.91', '+11.91', '-13.67',\n",
       "       '+13.67', '-15.71', '+10.99', '-8.76', '+3.56', '+0.59', '-1.53',\n",
       "       '-7.29', '-2.80', '+2.07', '-0.61', '+8.96', '-4.12', '+2.85',\n",
       "       '-2.85', '+2.91', '+0.39', '-2.14', '-12.76', '+12.76', '-12.53',\n",
       "       '+12.53', '+3.37', '-17.53', '+17.53', '+13.42', '+3.02', '-3.14',\n",
       "       '+0.61', '+1.86', '+2.84', '-3.41', '+2.50', '+2.18', '+2.51',\n",
       "       '-2.81', '+2.81', '-3.77', '+2.27', '-13.70', '+3.67', '+3.22',\n",
       "       '-3.22', '+4.62', '-2.44', '-2.63', '-9.58', '-2.24', '-6.49',\n",
       "       '+6.49', '-7.53', '+7.53', '-7.49', '+7.49', '-3.47', '+3.47',\n",
       "       '-21.33', '+2.08', '+1.79', '+2.40', '-9.94', '+9.94', '-4.73',\n",
       "       '+4.73', '-4.89', '+4.89', '+3.72', '-4.32', '+4.32', '-17.47',\n",
       "       '-0.83', '+2.52', '-2.99', '+3.77', '+10.04', '-9.52', '+9.52',\n",
       "       '+2.63', '+3.24', '+7.65', '-9.56', '+9.56', '-11.65', '+3.00',\n",
       "       '+4.00', '-7.00', '-3.48', '+2.04', '+2.79', '+6.70', '-8.61',\n",
       "       '+8.61', '-10.70', '+5.04', '+7.00', '+3.41', '+8.24', '-2.48',\n",
       "       '-8.06', '+8.06', '-11.52', '+11.52', '-1.45', '+1.45', '-6.38',\n",
       "       '+6.38', '-2.88', '-5.08', '-3.62', '+3.62', '-5.90', '+5.90',\n",
       "       '-2.53', '-9.01', '-14.51', '+14.51', '+3.66', '-2.62', '-4.05',\n",
       "       '+2.47', '+1.07', '-1.43', '+1.43', '-4.82', '-2.29', '-5.60',\n",
       "       '-2.04', '-2.90', '+2.90', '-3.43', '+3.43', '+1.49', '+4.96',\n",
       "       '-5.00', '-2.22', '+2.22', '-1.86', '+1.50', '-4.14', '+4.68'],\n",
       "      dtype=object)"
      ]
     },
     "execution_count": 136,
     "metadata": {},
     "output_type": "execute_result"
    }
   ],
   "source": [
    "df_mergeo_1['Variación'].unique()"
   ]
  },
  {
   "cell_type": "code",
   "execution_count": 140,
   "metadata": {},
   "outputs": [
    {
     "data": {
      "text/plain": [
       "0         0.0\n",
       "1         0.0\n",
       "2         0.0\n",
       "3         0.0\n",
       "4         0.0\n",
       "         ... \n",
       "133344    0.0\n",
       "133345    0.0\n",
       "133346    0.0\n",
       "133347    0.0\n",
       "133348    0.0\n",
       "Name: Variación, Length: 133349, dtype: float64"
      ]
     },
     "execution_count": 140,
     "metadata": {},
     "output_type": "execute_result"
    }
   ],
   "source": [
    "df_mergeo_1['Variación'].astype(float)"
   ]
  },
  {
   "cell_type": "code",
   "execution_count": 142,
   "metadata": {},
   "outputs": [
    {
     "name": "stdout",
     "output_type": "stream",
     "text": [
      "<class 'pandas.core.frame.DataFrame'>\n",
      "RangeIndex: 133349 entries, 0 to 133348\n",
      "Data columns (total 6 columns):\n",
      " #   Column           Non-Null Count   Dtype         \n",
      "---  ------           --------------   -----         \n",
      " 0   Día              133349 non-null  datetime64[ns]\n",
      " 1   Precio (€)       133349 non-null  float64       \n",
      " 2   Variación        133349 non-null  object        \n",
      " 3   Artículo         133349 non-null  object        \n",
      " 4   Id_Categoria     133349 non-null  int64         \n",
      " 5   Id_Supermercado  133349 non-null  int64         \n",
      "dtypes: datetime64[ns](1), float64(1), int64(2), object(2)\n",
      "memory usage: 6.1+ MB\n"
     ]
    }
   ],
   "source": [
    "df_mergeo_1.info()"
   ]
  },
  {
   "cell_type": "code",
   "execution_count": 143,
   "metadata": {},
   "outputs": [
    {
     "data": {
      "text/html": [
       "<div>\n",
       "<style scoped>\n",
       "    .dataframe tbody tr th:only-of-type {\n",
       "        vertical-align: middle;\n",
       "    }\n",
       "\n",
       "    .dataframe tbody tr th {\n",
       "        vertical-align: top;\n",
       "    }\n",
       "\n",
       "    .dataframe thead th {\n",
       "        text-align: right;\n",
       "    }\n",
       "</style>\n",
       "<table border=\"1\" class=\"dataframe\">\n",
       "  <thead>\n",
       "    <tr style=\"text-align: right;\">\n",
       "      <th></th>\n",
       "      <th>Id_Categoria</th>\n",
       "      <th>Categoría</th>\n",
       "    </tr>\n",
       "  </thead>\n",
       "  <tbody>\n",
       "    <tr>\n",
       "      <th>0</th>\n",
       "      <td>0</td>\n",
       "      <td>aceite-de-girasol</td>\n",
       "    </tr>\n",
       "    <tr>\n",
       "      <th>1</th>\n",
       "      <td>1</td>\n",
       "      <td>aceite-de-oliva</td>\n",
       "    </tr>\n",
       "    <tr>\n",
       "      <th>2</th>\n",
       "      <td>2</td>\n",
       "      <td>leche</td>\n",
       "    </tr>\n",
       "  </tbody>\n",
       "</table>\n",
       "</div>"
      ],
      "text/plain": [
       "   Id_Categoria          Categoría\n",
       "0             0  aceite-de-girasol\n",
       "1             1    aceite-de-oliva\n",
       "2             2              leche"
      ]
     },
     "execution_count": 143,
     "metadata": {},
     "output_type": "execute_result"
    }
   ],
   "source": [
    "df_categoria"
   ]
  },
  {
   "cell_type": "code",
   "execution_count": 144,
   "metadata": {},
   "outputs": [],
   "source": [
    "df_mergeo_1['Id_Categoria'] = df_mergeo_1['Id_Categoria'].apply(lambda x: x + 1)\n"
   ]
  },
  {
   "cell_type": "code",
   "execution_count": 145,
   "metadata": {},
   "outputs": [],
   "source": [
    "df_categoria['Id_Categoria'] = df_categoria['Id_Categoria'].apply(lambda x:x+1)"
   ]
  },
  {
   "cell_type": "code",
   "execution_count": 146,
   "metadata": {},
   "outputs": [],
   "source": [
    "df_supermercado['Id_Supermercado'] = df_supermercado['Id_Supermercado'].apply(lambda x: x + 1)"
   ]
  },
  {
   "cell_type": "code",
   "execution_count": 147,
   "metadata": {},
   "outputs": [
    {
     "data": {
      "text/html": [
       "<div>\n",
       "<style scoped>\n",
       "    .dataframe tbody tr th:only-of-type {\n",
       "        vertical-align: middle;\n",
       "    }\n",
       "\n",
       "    .dataframe tbody tr th {\n",
       "        vertical-align: top;\n",
       "    }\n",
       "\n",
       "    .dataframe thead th {\n",
       "        text-align: right;\n",
       "    }\n",
       "</style>\n",
       "<table border=\"1\" class=\"dataframe\">\n",
       "  <thead>\n",
       "    <tr style=\"text-align: right;\">\n",
       "      <th></th>\n",
       "      <th>Id_Categoria</th>\n",
       "      <th>Categoría</th>\n",
       "    </tr>\n",
       "  </thead>\n",
       "  <tbody>\n",
       "    <tr>\n",
       "      <th>0</th>\n",
       "      <td>1</td>\n",
       "      <td>aceite-de-girasol</td>\n",
       "    </tr>\n",
       "    <tr>\n",
       "      <th>1</th>\n",
       "      <td>2</td>\n",
       "      <td>aceite-de-oliva</td>\n",
       "    </tr>\n",
       "    <tr>\n",
       "      <th>2</th>\n",
       "      <td>3</td>\n",
       "      <td>leche</td>\n",
       "    </tr>\n",
       "  </tbody>\n",
       "</table>\n",
       "</div>"
      ],
      "text/plain": [
       "   Id_Categoria          Categoría\n",
       "0             1  aceite-de-girasol\n",
       "1             2    aceite-de-oliva\n",
       "2             3              leche"
      ]
     },
     "execution_count": 147,
     "metadata": {},
     "output_type": "execute_result"
    }
   ],
   "source": [
    "df_categoria"
   ]
  },
  {
   "cell_type": "code",
   "execution_count": null,
   "metadata": {},
   "outputs": [],
   "source": []
  }
 ],
 "metadata": {
  "kernelspec": {
   "display_name": "Python 3",
   "language": "python",
   "name": "python3"
  },
  "language_info": {
   "codemirror_mode": {
    "name": "ipython",
    "version": 3
   },
   "file_extension": ".py",
   "mimetype": "text/x-python",
   "name": "python",
   "nbconvert_exporter": "python",
   "pygments_lexer": "ipython3",
   "version": "3.11.9"
  }
 },
 "nbformat": 4,
 "nbformat_minor": 2
}
