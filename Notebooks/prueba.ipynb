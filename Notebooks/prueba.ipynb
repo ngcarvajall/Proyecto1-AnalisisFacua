{
 "cells": [
  {
   "cell_type": "code",
   "execution_count": 1,
   "metadata": {},
   "outputs": [],
   "source": [
    "from bs4 import BeautifulSoup\n",
    "import random\n",
    "# Requests\n",
    "import requests\n",
    "from tqdm import tqdm\n",
    "import pandas as pd\n",
    "import numpy as np\n",
    "import sys\n",
    "\n",
    "sys.path.append(\"..\")\n",
    "\n",
    "from src.funciones import obtener_url_decat_deproducto, obtener_url_decat_deproducto2, scrapeo"
   ]
  },
  {
   "cell_type": "code",
   "execution_count": 2,
   "metadata": {},
   "outputs": [],
   "source": [
    "# def obtener_url_decat_deproducto(url):\n",
    "#     link = requests.get(url)\n",
    "#     print('Hemos hecho el requests, vamos al if')\n",
    "#     if link.status_code == 200:\n",
    "#         sopa = BeautifulSoup(link.content, \"html.parser\")\n",
    "#         lista_de_cajas = sopa.findAll('div', {'class': \"card h-100\"})\n",
    "#         lista_href = []\n",
    "#         for i in range(len(lista_de_cajas)):\n",
    "#             h_ref = lista_de_cajas[i].find(\"a\").get('href')\n",
    "#             lista_href.append(h_ref)\n",
    "#     else:\n",
    "#         print(f'El status code es {link.status_code}')\n",
    "#     return lista_href\n"
   ]
  },
  {
   "cell_type": "code",
   "execution_count": 3,
   "metadata": {},
   "outputs": [],
   "source": [
    "# def obtener_url_decat_deproducto2(url):\n",
    "#     link = requests.get(url)\n",
    "#     print('Hemos hecho el requests, vamos al if')\n",
    "#     if link.status_code == 200:\n",
    "#         sopa = BeautifulSoup(link.content, \"html.parser\")\n",
    "#         lista_de_cajas = sopa.findAll('div', {'class': \"card h-100\"})\n",
    "#         lista_href = []\n",
    "#         for i in range(len(lista_de_cajas)):\n",
    "#             if lista_de_cajas[i].find('a').text == 'Histórico':\n",
    "#                 h_ref = lista_de_cajas[i].find(\"a\").get('href')\n",
    "#                 lista_href.append(h_ref)\n",
    "#     else:\n",
    "#         print(f'El status code es {link.status_code}')\n",
    "#     return lista_href\n"
   ]
  },
  {
   "cell_type": "code",
   "execution_count": 4,
   "metadata": {},
   "outputs": [
    {
     "data": {
      "text/plain": [
       "['https://super.facua.org/mercadona',\n",
       " 'https://super.facua.org/carrefour',\n",
       " 'https://super.facua.org/eroski',\n",
       " 'https://super.facua.org/dia',\n",
       " 'https://super.facua.org/hipercor',\n",
       " 'https://super.facua.org/alcampo']"
      ]
     },
     "execution_count": 4,
     "metadata": {},
     "output_type": "execute_result"
    }
   ],
   "source": [
    "lista_supermercados = ['mercadona', 'carrefour', 'eroski', 'dia', 'hipercor', 'alcampo']\n",
    "lista_webs = []\n",
    "for i in lista_supermercados:\n",
    "    url_supermercado = f'https://super.facua.org/{i}'\n",
    "    lista_webs.append(url_supermercado)\n",
    "\n",
    "lista_webs"
   ]
  },
  {
   "cell_type": "code",
   "execution_count": 5,
   "metadata": {},
   "outputs": [
    {
     "name": "stdout",
     "output_type": "stream",
     "text": [
      "Hemos hecho el requests, vamos al if\n",
      "Hemos hecho el requests, vamos al if\n",
      "Hemos hecho el requests, vamos al if\n",
      "Hemos hecho el requests, vamos al if\n",
      "Hemos hecho el requests, vamos al if\n",
      "Hemos hecho el requests, vamos al if\n"
     ]
    }
   ],
   "source": [
    "lista_categorias_supermercados = []\n",
    "for i in lista_webs:\n",
    "    hrefs = obtener_url_decat_deproducto(i)\n",
    "    lista_categorias_supermercados.append(hrefs)"
   ]
  },
  {
   "cell_type": "code",
   "execution_count": 6,
   "metadata": {},
   "outputs": [
    {
     "name": "stdout",
     "output_type": "stream",
     "text": [
      "6\n",
      "3\n"
     ]
    }
   ],
   "source": [
    "print(len(lista_categorias_supermercados))\n",
    "print(len(lista_categorias_supermercados[0]))"
   ]
  },
  {
   "cell_type": "code",
   "execution_count": 7,
   "metadata": {},
   "outputs": [
    {
     "data": {
      "text/plain": [
       "[['https://super.facua.org/mercadona/aceite-de-girasol/',\n",
       "  'https://super.facua.org/mercadona/aceite-de-oliva/',\n",
       "  'https://super.facua.org/mercadona/leche/'],\n",
       " ['https://super.facua.org/carrefour/aceite-de-girasol/',\n",
       "  'https://super.facua.org/carrefour/aceite-de-oliva/',\n",
       "  'https://super.facua.org/carrefour/leche/'],\n",
       " ['https://super.facua.org/eroski/aceite-de-girasol/',\n",
       "  'https://super.facua.org/eroski/aceite-de-oliva/',\n",
       "  'https://super.facua.org/eroski/leche/'],\n",
       " ['https://super.facua.org/dia/aceite-de-girasol/',\n",
       "  'https://super.facua.org/dia/aceite-de-oliva/',\n",
       "  'https://super.facua.org/dia/leche/'],\n",
       " ['https://super.facua.org/hipercor/aceite-de-girasol/',\n",
       "  'https://super.facua.org/hipercor/aceite-de-oliva/',\n",
       "  'https://super.facua.org/hipercor/leche/'],\n",
       " ['https://super.facua.org/alcampo/aceite-de-girasol/',\n",
       "  'https://super.facua.org/alcampo/aceite-de-oliva/',\n",
       "  'https://super.facua.org/alcampo/leche/']]"
      ]
     },
     "execution_count": 7,
     "metadata": {},
     "output_type": "execute_result"
    }
   ],
   "source": [
    "lista_categorias_supermercados\n",
    "# lista_categorias_supermercados"
   ]
  },
  {
   "cell_type": "code",
   "execution_count": 8,
   "metadata": {},
   "outputs": [
    {
     "name": "stdout",
     "output_type": "stream",
     "text": [
      "Hemos hecho el requests, vamos al if\n",
      "Hemos hecho el requests, vamos al if\n",
      "Hemos hecho el requests, vamos al if\n",
      "Hemos hecho el requests, vamos al if\n",
      "Hemos hecho el requests, vamos al if\n",
      "Hemos hecho el requests, vamos al if\n",
      "Hemos hecho el requests, vamos al if\n",
      "Hemos hecho el requests, vamos al if\n",
      "Hemos hecho el requests, vamos al if\n",
      "Hemos hecho el requests, vamos al if\n",
      "Hemos hecho el requests, vamos al if\n",
      "Hemos hecho el requests, vamos al if\n",
      "Hemos hecho el requests, vamos al if\n",
      "Hemos hecho el requests, vamos al if\n",
      "Hemos hecho el requests, vamos al if\n",
      "Hemos hecho el requests, vamos al if\n",
      "Hemos hecho el requests, vamos al if\n",
      "Hemos hecho el requests, vamos al if\n"
     ]
    }
   ],
   "source": [
    "lista_hrefs_articulos_totales_supermercados = []\n",
    "for i in range(len(lista_categorias_supermercados)):\n",
    "    for href in (lista_categorias_supermercados[i]):\n",
    "        lista_href_productos_supermercados = obtener_url_decat_deproducto2(href)\n",
    "        lista_hrefs_articulos_totales_supermercados.append(lista_href_productos_supermercados)\n"
   ]
  },
  {
   "cell_type": "code",
   "execution_count": 17,
   "metadata": {},
   "outputs": [
    {
     "data": {
      "text/plain": [
       "['https://super.facua.org/mercadona/aceite-de-girasol/aceite-de-girasol-refinado-02-hacendado-1-l/',\n",
       " 'https://super.facua.org/mercadona/aceite-de-girasol/aceite-de-girasol-refinado-02-hacendado-5-l/']"
      ]
     },
     "execution_count": 17,
     "metadata": {},
     "output_type": "execute_result"
    }
   ],
   "source": [
    "lista_hrefs_articulos_totales_supermercados[0]"
   ]
  },
  {
   "cell_type": "code",
   "execution_count": 11,
   "metadata": {},
   "outputs": [],
   "source": [
    "df = pd.DataFrame()"
   ]
  },
  {
   "cell_type": "code",
   "execution_count": 12,
   "metadata": {},
   "outputs": [
    {
     "name": "stderr",
     "output_type": "stream",
     "text": [
      "  0%|          | 0/18 [00:00<?, ?it/s]"
     ]
    },
    {
     "name": "stderr",
     "output_type": "stream",
     "text": [
      "100%|██████████| 18/18 [05:49<00:00, 19.40s/it]\n"
     ]
    }
   ],
   "source": [
    "# df1 = pd.DataFrame()\n",
    "df2 = pd.DataFrame()\n",
    "for i in tqdm(range(len(lista_hrefs_articulos_totales_supermercados))):\n",
    "    for href in (lista_hrefs_articulos_totales_supermercados[i]):\n",
    "        df3 = scrapeo(href)\n",
    "        df3['Supermercado'] = href.split('/')[-4]\n",
    "        df3['Categoría'] = href.split('/')[-3]\n",
    "        df3['Artículo'] = href.split('/')[-2]\n",
    "        df2 = pd.concat([df2,df3])\n",
    "    "
   ]
  },
  {
   "cell_type": "code",
   "execution_count": 18,
   "metadata": {},
   "outputs": [
    {
     "data": {
      "text/html": [
       "<div>\n",
       "<style scoped>\n",
       "    .dataframe tbody tr th:only-of-type {\n",
       "        vertical-align: middle;\n",
       "    }\n",
       "\n",
       "    .dataframe tbody tr th {\n",
       "        vertical-align: top;\n",
       "    }\n",
       "\n",
       "    .dataframe thead th {\n",
       "        text-align: right;\n",
       "    }\n",
       "</style>\n",
       "<table border=\"1\" class=\"dataframe\">\n",
       "  <thead>\n",
       "    <tr style=\"text-align: right;\">\n",
       "      <th></th>\n",
       "      <th>Día</th>\n",
       "      <th>Precio (€)</th>\n",
       "      <th>Variación</th>\n",
       "      <th>Supermercado</th>\n",
       "      <th>Categoría</th>\n",
       "      <th>Artículo</th>\n",
       "    </tr>\n",
       "  </thead>\n",
       "  <tbody>\n",
       "    <tr>\n",
       "      <th>0</th>\n",
       "      <td>12/07/2024</td>\n",
       "      <td>1,45</td>\n",
       "      <td>=</td>\n",
       "      <td>mercadona</td>\n",
       "      <td>aceite-de-girasol</td>\n",
       "      <td>aceite-de-girasol-refinado-02-hacendado-1-l</td>\n",
       "    </tr>\n",
       "    <tr>\n",
       "      <th>1</th>\n",
       "      <td>13/07/2024</td>\n",
       "      <td>1,45</td>\n",
       "      <td>=</td>\n",
       "      <td>mercadona</td>\n",
       "      <td>aceite-de-girasol</td>\n",
       "      <td>aceite-de-girasol-refinado-02-hacendado-1-l</td>\n",
       "    </tr>\n",
       "    <tr>\n",
       "      <th>2</th>\n",
       "      <td>14/07/2024</td>\n",
       "      <td>1,45</td>\n",
       "      <td>=</td>\n",
       "      <td>mercadona</td>\n",
       "      <td>aceite-de-girasol</td>\n",
       "      <td>aceite-de-girasol-refinado-02-hacendado-1-l</td>\n",
       "    </tr>\n",
       "    <tr>\n",
       "      <th>3</th>\n",
       "      <td>15/07/2024</td>\n",
       "      <td>1,45</td>\n",
       "      <td>=</td>\n",
       "      <td>mercadona</td>\n",
       "      <td>aceite-de-girasol</td>\n",
       "      <td>aceite-de-girasol-refinado-02-hacendado-1-l</td>\n",
       "    </tr>\n",
       "    <tr>\n",
       "      <th>4</th>\n",
       "      <td>16/07/2024</td>\n",
       "      <td>1,45</td>\n",
       "      <td>=</td>\n",
       "      <td>mercadona</td>\n",
       "      <td>aceite-de-girasol</td>\n",
       "      <td>aceite-de-girasol-refinado-02-hacendado-1-l</td>\n",
       "    </tr>\n",
       "  </tbody>\n",
       "</table>\n",
       "</div>"
      ],
      "text/plain": [
       "          Día Precio (€) Variación Supermercado          Categoría  \\\n",
       "0  12/07/2024       1,45         =    mercadona  aceite-de-girasol   \n",
       "1  13/07/2024       1,45         =    mercadona  aceite-de-girasol   \n",
       "2  14/07/2024       1,45         =    mercadona  aceite-de-girasol   \n",
       "3  15/07/2024       1,45         =    mercadona  aceite-de-girasol   \n",
       "4  16/07/2024       1,45         =    mercadona  aceite-de-girasol   \n",
       "\n",
       "                                      Artículo  \n",
       "0  aceite-de-girasol-refinado-02-hacendado-1-l  \n",
       "1  aceite-de-girasol-refinado-02-hacendado-1-l  \n",
       "2  aceite-de-girasol-refinado-02-hacendado-1-l  \n",
       "3  aceite-de-girasol-refinado-02-hacendado-1-l  \n",
       "4  aceite-de-girasol-refinado-02-hacendado-1-l  "
      ]
     },
     "execution_count": 18,
     "metadata": {},
     "output_type": "execute_result"
    }
   ],
   "source": [
    "df2.head()"
   ]
  },
  {
   "cell_type": "code",
   "execution_count": 19,
   "metadata": {},
   "outputs": [
    {
     "data": {
      "text/plain": [
       "Día             object\n",
       "Precio (€)      object\n",
       "Variación       object\n",
       "Supermercado    object\n",
       "Categoría       object\n",
       "Artículo        object\n",
       "dtype: object"
      ]
     },
     "execution_count": 19,
     "metadata": {},
     "output_type": "execute_result"
    }
   ],
   "source": [
    "df2.dtypes"
   ]
  },
  {
   "cell_type": "code",
   "execution_count": 21,
   "metadata": {},
   "outputs": [
    {
     "name": "stdout",
     "output_type": "stream",
     "text": [
      "<class 'pandas.core.frame.DataFrame'>\n",
      "Index: 133349 entries, 0 to 41\n",
      "Data columns (total 6 columns):\n",
      " #   Column        Non-Null Count   Dtype \n",
      "---  ------        --------------   ----- \n",
      " 0   Día           133349 non-null  object\n",
      " 1   Precio (€)    133349 non-null  object\n",
      " 2   Variación     133349 non-null  object\n",
      " 3   Supermercado  133349 non-null  object\n",
      " 4   Categoría     133349 non-null  object\n",
      " 5   Artículo      133349 non-null  object\n",
      "dtypes: object(6)\n",
      "memory usage: 7.1+ MB\n"
     ]
    }
   ],
   "source": [
    "df2.info()"
   ]
  },
  {
   "cell_type": "code",
   "execution_count": 27,
   "metadata": {},
   "outputs": [],
   "source": [
    "df2['Precio (€)'] = df2['Precio (€)'].str.replace(',', '.')"
   ]
  },
  {
   "cell_type": "code",
   "execution_count": 28,
   "metadata": {},
   "outputs": [
    {
     "data": {
      "text/html": [
       "<div>\n",
       "<style scoped>\n",
       "    .dataframe tbody tr th:only-of-type {\n",
       "        vertical-align: middle;\n",
       "    }\n",
       "\n",
       "    .dataframe tbody tr th {\n",
       "        vertical-align: top;\n",
       "    }\n",
       "\n",
       "    .dataframe thead th {\n",
       "        text-align: right;\n",
       "    }\n",
       "</style>\n",
       "<table border=\"1\" class=\"dataframe\">\n",
       "  <thead>\n",
       "    <tr style=\"text-align: right;\">\n",
       "      <th></th>\n",
       "      <th>Día</th>\n",
       "      <th>Precio (€)</th>\n",
       "      <th>Variación</th>\n",
       "      <th>Supermercado</th>\n",
       "      <th>Categoría</th>\n",
       "      <th>Artículo</th>\n",
       "    </tr>\n",
       "  </thead>\n",
       "  <tbody>\n",
       "    <tr>\n",
       "      <th>108</th>\n",
       "      <td>13/10/2024</td>\n",
       "      <td>8.15</td>\n",
       "      <td>=</td>\n",
       "      <td>alcampo</td>\n",
       "      <td>aceite-de-oliva</td>\n",
       "      <td>ybarra-aceite-de-oliva-suave-botella-1-l</td>\n",
       "    </tr>\n",
       "  </tbody>\n",
       "</table>\n",
       "</div>"
      ],
      "text/plain": [
       "            Día Precio (€) Variación Supermercado        Categoría  \\\n",
       "108  13/10/2024       8.15         =      alcampo  aceite-de-oliva   \n",
       "\n",
       "                                     Artículo  \n",
       "108  ybarra-aceite-de-oliva-suave-botella-1-l  "
      ]
     },
     "execution_count": 28,
     "metadata": {},
     "output_type": "execute_result"
    }
   ],
   "source": [
    "df2.sample()"
   ]
  },
  {
   "cell_type": "code",
   "execution_count": 30,
   "metadata": {},
   "outputs": [],
   "source": [
    "df2['Precio (€)'] =  df2['Precio (€)'].astype(float)"
   ]
  },
  {
   "cell_type": "code",
   "execution_count": 32,
   "metadata": {},
   "outputs": [
    {
     "name": "stdout",
     "output_type": "stream",
     "text": [
      "<class 'pandas.core.frame.DataFrame'>\n",
      "Index: 133349 entries, 0 to 41\n",
      "Data columns (total 6 columns):\n",
      " #   Column        Non-Null Count   Dtype  \n",
      "---  ------        --------------   -----  \n",
      " 0   Día           133349 non-null  object \n",
      " 1   Precio (€)    133349 non-null  float64\n",
      " 2   Variación     133349 non-null  object \n",
      " 3   Supermercado  133349 non-null  object \n",
      " 4   Categoría     133349 non-null  object \n",
      " 5   Artículo      133349 non-null  object \n",
      "dtypes: float64(1), object(5)\n",
      "memory usage: 7.1+ MB\n"
     ]
    }
   ],
   "source": [
    "df2.info()"
   ]
  },
  {
   "cell_type": "code",
   "execution_count": 33,
   "metadata": {},
   "outputs": [
    {
     "data": {
      "text/plain": [
       "0     12/07/2024\n",
       "1     13/07/2024\n",
       "2     14/07/2024\n",
       "3     15/07/2024\n",
       "4     16/07/2024\n",
       "         ...    \n",
       "37    21/10/2024\n",
       "38    22/10/2024\n",
       "39    23/10/2024\n",
       "40    24/10/2024\n",
       "41    25/10/2024\n",
       "Name: Día, Length: 133349, dtype: object"
      ]
     },
     "execution_count": 33,
     "metadata": {},
     "output_type": "execute_result"
    }
   ],
   "source": [
    "df2['Día']"
   ]
  },
  {
   "cell_type": "code",
   "execution_count": null,
   "metadata": {},
   "outputs": [],
   "source": []
  }
 ],
 "metadata": {
  "kernelspec": {
   "display_name": "Python 3",
   "language": "python",
   "name": "python3"
  },
  "language_info": {
   "codemirror_mode": {
    "name": "ipython",
    "version": 3
   },
   "file_extension": ".py",
   "mimetype": "text/x-python",
   "name": "python",
   "nbconvert_exporter": "python",
   "pygments_lexer": "ipython3",
   "version": "3.11.9"
  }
 },
 "nbformat": 4,
 "nbformat_minor": 2
}
