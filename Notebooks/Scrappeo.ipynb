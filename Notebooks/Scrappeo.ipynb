{
 "cells": [
  {
   "cell_type": "code",
   "execution_count": 1,
   "metadata": {},
   "outputs": [],
   "source": [
    "# Importamos las librerías que necesitamos\n",
    "\n",
    "# Librerías de extracción de datos\n",
    "# -----------------------------------------------------------------------\n",
    "\n",
    "# Importaciones:\n",
    "# Beautifulsoup\n",
    "from bs4 import BeautifulSoup\n",
    "import random\n",
    "# Requests\n",
    "import requests\n",
    "\n",
    "import pandas as pd\n",
    "import numpy as np\n",
    "\n",
    "from time import sleep\n",
    "\n",
    "# Importar librerías para automatización de navegadores web con Selenium\n",
    "# -----------------------------------------------------------------------\n",
    "from selenium import webdriver  # Selenium es una herramienta para automatizar la interacción con navegadores web.\n",
    "from webdriver_manager.chrome import ChromeDriverManager  # ChromeDriverManager gestiona la instalación del controlador de Chrome.\n",
    "from selenium.webdriver.common.keys import Keys  # Keys es útil para simular eventos de teclado en Selenium.\n",
    "from selenium.webdriver.support.ui import Select  # Select se utiliza para interactuar con elementos <select> en páginas web.\n",
    "from selenium.webdriver.support.ui import WebDriverWait\n",
    "from selenium.webdriver.support import expected_conditions as EC\n",
    "from selenium.common.exceptions import NoSuchElementException # Excepciones comunes de selenium que nos podemos encontrar "
   ]
  },
  {
   "cell_type": "code",
   "execution_count": 3,
   "metadata": {},
   "outputs": [],
   "source": [
    "### casi todas lo hacen así, puede que otra no porque percibe las cookies como otra capa\n",
    "driver = webdriver.Chrome()\n",
    "url_wunder = \"https://super.facua.org/\"\n",
    "driver.get(url_wunder)\n",
    "# colocar prints\n",
    "driver.maximize_window()\n",
    "driver.implicitly_wait(5) ### es como un sleep, pero aquí va a intentar lo siguiente durante el tiempo que le digo\n",
    "#aceptamos las cookies\n",
    "### para las cookies\n",
    "### el tiempo de python puede ser diferente al navegador"
   ]
  },
  {
   "cell_type": "code",
   "execution_count": 4,
   "metadata": {},
   "outputs": [
    {
     "name": "stdout",
     "output_type": "stream",
     "text": [
      "No encuentro el botón\n"
     ]
    }
   ],
   "source": [
    "try: \n",
    "    driver.find_element(\"css selector\", 'body > section:nth-child(4) > div > div.row.gx-4.gx-lg-6.row-cols-2.row-cols-md-2.row-cols-xl-6.justify-content-center > div:nth-child(1) > div > div.card-footer.p-4.pt-0.border-top-0.bg-transparent > div > a').click()\n",
    "except:\n",
    "    print('No encuentro el botón')"
   ]
  },
  {
   "cell_type": "code",
   "execution_count": 5,
   "metadata": {},
   "outputs": [],
   "source": [
    "lista_supermercados = ['mercadona', 'carrefour', 'eroski', 'dia', 'hipercor', 'alcampo']"
   ]
  },
  {
   "cell_type": "code",
   "execution_count": 6,
   "metadata": {},
   "outputs": [
    {
     "data": {
      "text/plain": [
       "['https://super.facua.org/mercadona',\n",
       " 'https://super.facua.org/carrefour',\n",
       " 'https://super.facua.org/eroski',\n",
       " 'https://super.facua.org/dia',\n",
       " 'https://super.facua.org/hipercor',\n",
       " 'https://super.facua.org/alcampo']"
      ]
     },
     "execution_count": 6,
     "metadata": {},
     "output_type": "execute_result"
    }
   ],
   "source": [
    "lista_webs = []\n",
    "for i in lista_supermercados:\n",
    "    url_supermercado = f'https://super.facua.org/{i}'\n",
    "    lista_webs.append(url_supermercado)\n",
    "\n",
    "lista_webs\n"
   ]
  },
  {
   "cell_type": "code",
   "execution_count": 8,
   "metadata": {},
   "outputs": [
    {
     "name": "stdout",
     "output_type": "stream",
     "text": [
      "200\n"
     ]
    }
   ],
   "source": [
    "url_mercadona = lista_webs[0]\n",
    "mercadona = requests.get(url_mercadona)\n",
    "print(mercadona.status_code)\n"
   ]
  },
  {
   "cell_type": "code",
   "execution_count": 20,
   "metadata": {},
   "outputs": [],
   "source": [
    "# sacamos nombre zapatillas\n",
    "sopa_mercadona = BeautifulSoup(mercadona.content, \"html.parser\")\n",
    "lista_info = sopa_mercadona.findAll('div', {'class': \"card h-100\"})\n"
   ]
  },
  {
   "cell_type": "code",
   "execution_count": 30,
   "metadata": {},
   "outputs": [
    {
     "name": "stdout",
     "output_type": "stream",
     "text": [
      "['https://super.facua.org/mercadona/aceite-de-girasol/', 'https://super.facua.org/mercadona/aceite-de-oliva/', 'https://super.facua.org/mercadona/leche/']\n"
     ]
    }
   ],
   "source": [
    "lista_webs_articulos = []\n",
    "for i in range(3):\n",
    "    link = lista_info[i].find(\"a\").get('href')\n",
    "    lista_webs_articulos.append(link)\n",
    "print(lista_webs_articulos)"
   ]
  },
  {
   "cell_type": "code",
   "execution_count": 31,
   "metadata": {},
   "outputs": [
    {
     "name": "stdout",
     "output_type": "stream",
     "text": [
      "200\n"
     ]
    }
   ],
   "source": [
    "url_aceite_girasol = lista_webs_articulos[0]\n",
    "aceites_girasol = requests.get(url_aceite_girasol)\n",
    "print(aceites_girasol.status_code)\n",
    "\n",
    "sopa_aceites_girasol_mercadona = BeautifulSoup(aceites_girasol.content, \"html.parser\")\n",
    "lista_urls_girasoles = sopa_aceites_girasol_mercadona.findAll('div', {'class': \"card h-100\"})"
   ]
  },
  {
   "cell_type": "code",
   "execution_count": 35,
   "metadata": {},
   "outputs": [
    {
     "data": {
      "text/plain": [
       "[<div class=\"card h-100\">\n",
       " <div class=\"card-body p-4\">\n",
       " <img alt=\"precios Aceite De Girasol Refinado 0,2º Hacendado 1 L. en Mercadona\" class=\"card-img-top\" src=\"https://prod-mercadona.imgix.net/images/38334513c2db1608117eb6c2759439f2.jpg?fit=crop&amp;h=600&amp;w=600\"/>\n",
       " <div class=\"text-center\">\n",
       " <!-- Product name-->\n",
       " <p class=\"fw-bolder\" style=\"color:black\">Aceite De Girasol Refinado 0,2º Hacendado 1 L.</p>\n",
       " <p>Precio hoy: 1,48€\n",
       "                                 </p></div>\n",
       " </div>\n",
       " <!-- Product actions-->\n",
       " <div class=\"card-footer p-4 pt-0 border-top-0 bg-transparent\">\n",
       " <div class=\"text-center\">\n",
       " <a class=\"btn-unirme btn-verde inline-block inline-block bg-primary border-primary font-semibold rounded-full\" href=\"https://super.facua.org/mercadona/aceite-de-girasol/aceite-de-girasol-refinado-02-hacendado-1-l/\">Histórico</a></div>\n",
       " </div> </div>,\n",
       " <div class=\"card h-100\">\n",
       " <div class=\"card-body p-4\">\n",
       " <img alt=\"precios Aceite De Girasol Refinado 0,2º Hacendado 5 L. en Mercadona\" class=\"card-img-top\" src=\"https://prod-mercadona.imgix.net/images/8c16a9c5fe8126141815ce55e50cbcba.jpg?fit=crop&amp;h=600&amp;w=600\"/>\n",
       " <div class=\"text-center\">\n",
       " <!-- Product name-->\n",
       " <p class=\"fw-bolder\" style=\"color:black\">Aceite De Girasol Refinado 0,2º Hacendado 5 L.</p>\n",
       " <p>Precio hoy: 6,91€\n",
       "                                 </p></div>\n",
       " </div>\n",
       " <!-- Product actions-->\n",
       " <div class=\"card-footer p-4 pt-0 border-top-0 bg-transparent\">\n",
       " <div class=\"text-center\">\n",
       " <a class=\"btn-unirme btn-verde inline-block inline-block bg-primary border-primary font-semibold rounded-full\" href=\"https://super.facua.org/mercadona/aceite-de-girasol/aceite-de-girasol-refinado-02-hacendado-5-l/\">Histórico</a></div>\n",
       " </div> </div>]"
      ]
     },
     "execution_count": 35,
     "metadata": {},
     "output_type": "execute_result"
    }
   ],
   "source": [
    "lista_urls_girasoles"
   ]
  },
  {
   "cell_type": "code",
   "execution_count": 36,
   "metadata": {},
   "outputs": [
    {
     "name": "stdout",
     "output_type": "stream",
     "text": [
      "['https://super.facua.org/mercadona/aceite-de-girasol/aceite-de-girasol-refinado-02-hacendado-1-l/', 'https://super.facua.org/mercadona/aceite-de-girasol/aceite-de-girasol-refinado-02-hacendado-5-l/']\n"
     ]
    }
   ],
   "source": [
    "lista_productos_girasoles_mercadona = []\n",
    "for i in range(2):\n",
    "    link = lista_urls_girasoles[i].find(\"a\").get('href')\n",
    "    lista_productos_girasoles_mercadona.append(link)\n",
    "print(lista_productos_girasoles_mercadona)"
   ]
  },
  {
   "cell_type": "code",
   "execution_count": 37,
   "metadata": {},
   "outputs": [
    {
     "name": "stdout",
     "output_type": "stream",
     "text": [
      "200\n"
     ]
    }
   ],
   "source": [
    "url_aceite1 = lista_productos_girasoles_mercadona[0]\n",
    "info_1 = requests.get(url_aceite1)\n",
    "print(info_1.status_code)"
   ]
  },
  {
   "cell_type": "code",
   "execution_count": 44,
   "metadata": {},
   "outputs": [],
   "source": [
    "sopa_tabla = BeautifulSoup(info_1.content, \"html.parser\")\n",
    "aceite_mercadona_girasol1 = sopa_tabla.find('table')"
   ]
  },
  {
   "cell_type": "code",
   "execution_count": 65,
   "metadata": {},
   "outputs": [
    {
     "data": {
      "text/plain": [
       "<table class=\"table table-striped table-responsive text-center\" style=\"width:100%\"><thead><tr><th scope=\"col\">Día</th><th scope=\"col\">Precio (€)</th><th scope=\"col\">Variación</th></tr></thead><tbody><tr><td>12/07/2024</td><td>1,45</td><td>=</td></tr><tr><td>13/07/2024</td><td>1,45</td><td>=</td></tr><tr><td>14/07/2024</td><td>1,45</td><td>=</td></tr><tr><td>15/07/2024</td><td>1,45</td><td>=</td></tr><tr><td>16/07/2024</td><td>1,45</td><td>=</td></tr><tr><td>17/07/2024</td><td>1,45</td><td>=</td></tr><tr><td>18/07/2024</td><td>1,45</td><td>=</td></tr><tr><td>19/07/2024</td><td>1,45</td><td>=</td></tr><tr><td>20/07/2024</td><td>1,45</td><td>=</td></tr><tr><td>21/07/2024</td><td>1,45</td><td>=</td></tr><tr><td>22/07/2024</td><td>1,45</td><td>=</td></tr><tr><td>23/07/2024</td><td>1,45</td><td>=</td></tr><tr><td>24/07/2024</td><td>1,45</td><td>=</td></tr><tr><td>25/07/2024</td><td>1,45</td><td>=</td></tr><tr><td>26/07/2024</td><td>1,45</td><td>=</td></tr><tr><td>27/07/2024</td><td>1,45</td><td>=</td></tr><tr><td>28/07/2024</td><td>1,45</td><td>=</td></tr><tr><td>29/07/2024</td><td>1,45</td><td>=</td></tr><tr><td>30/07/2024</td><td>1,45</td><td>=</td></tr><tr><td>31/07/2024</td><td>1,45</td><td>=</td></tr><tr><td>01/08/2024</td><td>1,45</td><td>=</td></tr><tr><td>02/08/2024</td><td>1,45</td><td>=</td></tr><tr><td>03/08/2024</td><td>1,45</td><td>=</td></tr><tr><td>04/08/2024</td><td>1,45</td><td>=</td></tr><tr><td>05/08/2024</td><td>1,45</td><td>=</td></tr><tr><td>06/08/2024</td><td>1,45</td><td>=</td></tr><tr><td>07/08/2024</td><td>1,45</td><td>=</td></tr><tr><td>08/08/2024</td><td>1,45</td><td>=</td></tr><tr><td>09/08/2024</td><td>1,45</td><td>=</td></tr><tr><td>10/08/2024</td><td>1,45</td><td>=</td></tr><tr><td>11/08/2024</td><td>1,45</td><td>=</td></tr><tr><td>12/08/2024</td><td>1,45</td><td>=</td></tr><tr><td>13/08/2024</td><td>1,45</td><td>=</td></tr><tr><td>14/08/2024</td><td>1,45</td><td>=</td></tr><tr><td>15/08/2024</td><td>1,45</td><td>=</td></tr><tr><td>16/08/2024</td><td>1,45</td><td>=</td></tr><tr><td>17/08/2024</td><td>1,45</td><td>=</td></tr><tr><td>18/08/2024</td><td>1,45</td><td>=</td></tr><tr><td>19/08/2024</td><td>1,45</td><td>=</td></tr><tr><td>20/08/2024</td><td>1,45</td><td>=</td></tr><tr><td>21/08/2024</td><td>1,45</td><td>=</td></tr><tr><td>22/08/2024</td><td>1,45</td><td>=</td></tr><tr><td>23/08/2024</td><td>1,45</td><td>=</td></tr><tr><td>24/08/2024</td><td>1,45</td><td>=</td></tr><tr><td>25/08/2024</td><td>1,45</td><td>=</td></tr><tr><td>26/08/2024</td><td>1,45</td><td>=</td></tr><tr><td>27/08/2024</td><td>1,45</td><td>=</td></tr><tr><td>28/08/2024</td><td>1,45</td><td>=</td></tr><tr><td>29/08/2024</td><td>1,45</td><td>=</td></tr><tr><td>30/08/2024</td><td>1,45</td><td>=</td></tr><tr><td>31/08/2024</td><td>1,45</td><td>=</td></tr><tr><td>01/09/2024</td><td>1,45</td><td>=</td></tr><tr><td>02/09/2024</td><td>1,45</td><td>=</td></tr><tr><td>03/09/2024</td><td>1,45</td><td>=</td></tr><tr><td>04/09/2024</td><td>1,45</td><td>=</td></tr><tr><td>05/09/2024</td><td>1,45</td><td>=</td></tr><tr><td>06/09/2024</td><td>1,45</td><td>=</td></tr><tr><td>07/09/2024</td><td>1,45</td><td>=</td></tr><tr><td>08/09/2024</td><td>1,45</td><td>=</td></tr><tr><td>09/09/2024</td><td>1,45</td><td>=</td></tr><tr><td>10/09/2024</td><td>1,45</td><td>=</td></tr><tr><td>11/09/2024</td><td>1,45</td><td>=</td></tr><tr><td>12/09/2024</td><td>1,45</td><td>=</td></tr><tr><td>13/09/2024</td><td>1,45</td><td>=</td></tr><tr><td>14/09/2024</td><td>1,45</td><td>=</td></tr><tr><td>15/09/2024</td><td>1,45</td><td>=</td></tr><tr><td>16/09/2024</td><td>1,45</td><td>=</td></tr><tr><td>17/09/2024</td><td>1,45</td><td>=</td></tr><tr><td>18/09/2024</td><td>1,45</td><td>=</td></tr><tr><td>19/09/2024</td><td>1,45</td><td>=</td></tr><tr><td>20/09/2024</td><td>1,45</td><td>=</td></tr><tr><td>21/09/2024</td><td>1,45</td><td>=</td></tr><tr><td>22/09/2024</td><td>1,45</td><td>=</td></tr><tr><td>23/09/2024</td><td>1,45</td><td>=</td></tr><tr><td>24/09/2024</td><td>1,45</td><td>=</td></tr><tr><td>25/09/2024</td><td>1,45</td><td>=</td></tr><tr><td>26/09/2024</td><td>1,45</td><td>=</td></tr><tr><td>27/09/2024</td><td>1,45</td><td>=</td></tr><tr><td>28/09/2024</td><td>1,45</td><td>=</td></tr><tr><td>29/09/2024</td><td>1,45</td><td>=</td></tr><tr><td>30/09/2024</td><td>1,45</td><td>=</td></tr><tr><td>01/10/2024</td><td>1,48</td><td style=\"color: green;\">+0,03 (2,07%)</td></tr><tr><td>02/10/2024</td><td>1,48</td><td>=</td></tr><tr><td>03/10/2024</td><td>1,48</td><td>=</td></tr><tr><td>04/10/2024</td><td>1,48</td><td>=</td></tr><tr><td>05/10/2024</td><td>1,48</td><td>=</td></tr><tr><td>06/10/2024</td><td>1,48</td><td>=</td></tr><tr><td>07/10/2024</td><td>1,48</td><td>=</td></tr><tr><td>08/10/2024</td><td>1,48</td><td>=</td></tr><tr><td>09/10/2024</td><td>1,48</td><td>=</td></tr><tr><td>10/10/2024</td><td>1,48</td><td>=</td></tr><tr><td>11/10/2024</td><td>1,48</td><td>=</td></tr><tr><td>12/10/2024</td><td>1,48</td><td>=</td></tr><tr><td>13/10/2024</td><td>1,48</td><td>=</td></tr><tr><td>14/10/2024</td><td>1,48</td><td>=</td></tr><tr><td>15/10/2024</td><td>1,48</td><td>=</td></tr><tr><td>16/10/2024</td><td>1,48</td><td>=</td></tr><tr><td>17/10/2024</td><td>1,48</td><td>=</td></tr><tr><td>18/10/2024</td><td>1,48</td><td>=</td></tr><tr><td>19/10/2024</td><td>1,48</td><td>=</td></tr><tr><td>20/10/2024</td><td>1,48</td><td>=</td></tr><tr><td>21/10/2024</td><td>1,48</td><td>=</td></tr><tr><td>22/10/2024</td><td>1,48</td><td>=</td></tr><tr><td>23/10/2024</td><td>1,48</td><td>=</td></tr><tr><td>24/10/2024</td><td>1,48</td><td>=</td></tr><tr><td>25/10/2024</td><td>1,48</td><td>=</td></tr></tbody></table>"
      ]
     },
     "execution_count": 65,
     "metadata": {},
     "output_type": "execute_result"
    }
   ],
   "source": [
    "aceite_mercadona_girasol1"
   ]
  },
  {
   "cell_type": "code",
   "execution_count": 66,
   "metadata": {},
   "outputs": [],
   "source": [
    "# columnas= [l.getText() for l in columnas.findAll('thead')]\n",
    "columnas = aceite_mercadona_girasol1.findAll(\"th\")\n"
   ]
  },
  {
   "cell_type": "code",
   "execution_count": 67,
   "metadata": {},
   "outputs": [
    {
     "data": {
      "text/plain": [
       "[<th scope=\"col\">Día</th>,\n",
       " <th scope=\"col\">Precio (€)</th>,\n",
       " <th scope=\"col\">Variación</th>]"
      ]
     },
     "execution_count": 67,
     "metadata": {},
     "output_type": "execute_result"
    }
   ],
   "source": [
    "columnas"
   ]
  },
  {
   "cell_type": "code",
   "execution_count": 68,
   "metadata": {},
   "outputs": [
    {
     "data": {
      "text/plain": [
       "['Día', 'Precio (€)', 'Variación']"
      ]
     },
     "execution_count": 68,
     "metadata": {},
     "output_type": "execute_result"
    }
   ],
   "source": [
    "nuevas = [i.getText() for i in columnas]\n",
    "nuevas"
   ]
  },
  {
   "cell_type": "code",
   "execution_count": 69,
   "metadata": {},
   "outputs": [],
   "source": [
    "valores = aceite_mercadona_girasol1.findAll('tr')"
   ]
  },
  {
   "cell_type": "code",
   "execution_count": 70,
   "metadata": {},
   "outputs": [
    {
     "data": {
      "text/plain": [
       "[<tr><th scope=\"col\">Día</th><th scope=\"col\">Precio (€)</th><th scope=\"col\">Variación</th></tr>,\n",
       " <tr><td>12/07/2024</td><td>1,45</td><td>=</td></tr>,\n",
       " <tr><td>13/07/2024</td><td>1,45</td><td>=</td></tr>,\n",
       " <tr><td>14/07/2024</td><td>1,45</td><td>=</td></tr>,\n",
       " <tr><td>15/07/2024</td><td>1,45</td><td>=</td></tr>,\n",
       " <tr><td>16/07/2024</td><td>1,45</td><td>=</td></tr>,\n",
       " <tr><td>17/07/2024</td><td>1,45</td><td>=</td></tr>,\n",
       " <tr><td>18/07/2024</td><td>1,45</td><td>=</td></tr>,\n",
       " <tr><td>19/07/2024</td><td>1,45</td><td>=</td></tr>,\n",
       " <tr><td>20/07/2024</td><td>1,45</td><td>=</td></tr>,\n",
       " <tr><td>21/07/2024</td><td>1,45</td><td>=</td></tr>,\n",
       " <tr><td>22/07/2024</td><td>1,45</td><td>=</td></tr>,\n",
       " <tr><td>23/07/2024</td><td>1,45</td><td>=</td></tr>,\n",
       " <tr><td>24/07/2024</td><td>1,45</td><td>=</td></tr>,\n",
       " <tr><td>25/07/2024</td><td>1,45</td><td>=</td></tr>,\n",
       " <tr><td>26/07/2024</td><td>1,45</td><td>=</td></tr>,\n",
       " <tr><td>27/07/2024</td><td>1,45</td><td>=</td></tr>,\n",
       " <tr><td>28/07/2024</td><td>1,45</td><td>=</td></tr>,\n",
       " <tr><td>29/07/2024</td><td>1,45</td><td>=</td></tr>,\n",
       " <tr><td>30/07/2024</td><td>1,45</td><td>=</td></tr>,\n",
       " <tr><td>31/07/2024</td><td>1,45</td><td>=</td></tr>,\n",
       " <tr><td>01/08/2024</td><td>1,45</td><td>=</td></tr>,\n",
       " <tr><td>02/08/2024</td><td>1,45</td><td>=</td></tr>,\n",
       " <tr><td>03/08/2024</td><td>1,45</td><td>=</td></tr>,\n",
       " <tr><td>04/08/2024</td><td>1,45</td><td>=</td></tr>,\n",
       " <tr><td>05/08/2024</td><td>1,45</td><td>=</td></tr>,\n",
       " <tr><td>06/08/2024</td><td>1,45</td><td>=</td></tr>,\n",
       " <tr><td>07/08/2024</td><td>1,45</td><td>=</td></tr>,\n",
       " <tr><td>08/08/2024</td><td>1,45</td><td>=</td></tr>,\n",
       " <tr><td>09/08/2024</td><td>1,45</td><td>=</td></tr>,\n",
       " <tr><td>10/08/2024</td><td>1,45</td><td>=</td></tr>,\n",
       " <tr><td>11/08/2024</td><td>1,45</td><td>=</td></tr>,\n",
       " <tr><td>12/08/2024</td><td>1,45</td><td>=</td></tr>,\n",
       " <tr><td>13/08/2024</td><td>1,45</td><td>=</td></tr>,\n",
       " <tr><td>14/08/2024</td><td>1,45</td><td>=</td></tr>,\n",
       " <tr><td>15/08/2024</td><td>1,45</td><td>=</td></tr>,\n",
       " <tr><td>16/08/2024</td><td>1,45</td><td>=</td></tr>,\n",
       " <tr><td>17/08/2024</td><td>1,45</td><td>=</td></tr>,\n",
       " <tr><td>18/08/2024</td><td>1,45</td><td>=</td></tr>,\n",
       " <tr><td>19/08/2024</td><td>1,45</td><td>=</td></tr>,\n",
       " <tr><td>20/08/2024</td><td>1,45</td><td>=</td></tr>,\n",
       " <tr><td>21/08/2024</td><td>1,45</td><td>=</td></tr>,\n",
       " <tr><td>22/08/2024</td><td>1,45</td><td>=</td></tr>,\n",
       " <tr><td>23/08/2024</td><td>1,45</td><td>=</td></tr>,\n",
       " <tr><td>24/08/2024</td><td>1,45</td><td>=</td></tr>,\n",
       " <tr><td>25/08/2024</td><td>1,45</td><td>=</td></tr>,\n",
       " <tr><td>26/08/2024</td><td>1,45</td><td>=</td></tr>,\n",
       " <tr><td>27/08/2024</td><td>1,45</td><td>=</td></tr>,\n",
       " <tr><td>28/08/2024</td><td>1,45</td><td>=</td></tr>,\n",
       " <tr><td>29/08/2024</td><td>1,45</td><td>=</td></tr>,\n",
       " <tr><td>30/08/2024</td><td>1,45</td><td>=</td></tr>,\n",
       " <tr><td>31/08/2024</td><td>1,45</td><td>=</td></tr>,\n",
       " <tr><td>01/09/2024</td><td>1,45</td><td>=</td></tr>,\n",
       " <tr><td>02/09/2024</td><td>1,45</td><td>=</td></tr>,\n",
       " <tr><td>03/09/2024</td><td>1,45</td><td>=</td></tr>,\n",
       " <tr><td>04/09/2024</td><td>1,45</td><td>=</td></tr>,\n",
       " <tr><td>05/09/2024</td><td>1,45</td><td>=</td></tr>,\n",
       " <tr><td>06/09/2024</td><td>1,45</td><td>=</td></tr>,\n",
       " <tr><td>07/09/2024</td><td>1,45</td><td>=</td></tr>,\n",
       " <tr><td>08/09/2024</td><td>1,45</td><td>=</td></tr>,\n",
       " <tr><td>09/09/2024</td><td>1,45</td><td>=</td></tr>,\n",
       " <tr><td>10/09/2024</td><td>1,45</td><td>=</td></tr>,\n",
       " <tr><td>11/09/2024</td><td>1,45</td><td>=</td></tr>,\n",
       " <tr><td>12/09/2024</td><td>1,45</td><td>=</td></tr>,\n",
       " <tr><td>13/09/2024</td><td>1,45</td><td>=</td></tr>,\n",
       " <tr><td>14/09/2024</td><td>1,45</td><td>=</td></tr>,\n",
       " <tr><td>15/09/2024</td><td>1,45</td><td>=</td></tr>,\n",
       " <tr><td>16/09/2024</td><td>1,45</td><td>=</td></tr>,\n",
       " <tr><td>17/09/2024</td><td>1,45</td><td>=</td></tr>,\n",
       " <tr><td>18/09/2024</td><td>1,45</td><td>=</td></tr>,\n",
       " <tr><td>19/09/2024</td><td>1,45</td><td>=</td></tr>,\n",
       " <tr><td>20/09/2024</td><td>1,45</td><td>=</td></tr>,\n",
       " <tr><td>21/09/2024</td><td>1,45</td><td>=</td></tr>,\n",
       " <tr><td>22/09/2024</td><td>1,45</td><td>=</td></tr>,\n",
       " <tr><td>23/09/2024</td><td>1,45</td><td>=</td></tr>,\n",
       " <tr><td>24/09/2024</td><td>1,45</td><td>=</td></tr>,\n",
       " <tr><td>25/09/2024</td><td>1,45</td><td>=</td></tr>,\n",
       " <tr><td>26/09/2024</td><td>1,45</td><td>=</td></tr>,\n",
       " <tr><td>27/09/2024</td><td>1,45</td><td>=</td></tr>,\n",
       " <tr><td>28/09/2024</td><td>1,45</td><td>=</td></tr>,\n",
       " <tr><td>29/09/2024</td><td>1,45</td><td>=</td></tr>,\n",
       " <tr><td>30/09/2024</td><td>1,45</td><td>=</td></tr>,\n",
       " <tr><td>01/10/2024</td><td>1,48</td><td style=\"color: green;\">+0,03 (2,07%)</td></tr>,\n",
       " <tr><td>02/10/2024</td><td>1,48</td><td>=</td></tr>,\n",
       " <tr><td>03/10/2024</td><td>1,48</td><td>=</td></tr>,\n",
       " <tr><td>04/10/2024</td><td>1,48</td><td>=</td></tr>,\n",
       " <tr><td>05/10/2024</td><td>1,48</td><td>=</td></tr>,\n",
       " <tr><td>06/10/2024</td><td>1,48</td><td>=</td></tr>,\n",
       " <tr><td>07/10/2024</td><td>1,48</td><td>=</td></tr>,\n",
       " <tr><td>08/10/2024</td><td>1,48</td><td>=</td></tr>,\n",
       " <tr><td>09/10/2024</td><td>1,48</td><td>=</td></tr>,\n",
       " <tr><td>10/10/2024</td><td>1,48</td><td>=</td></tr>,\n",
       " <tr><td>11/10/2024</td><td>1,48</td><td>=</td></tr>,\n",
       " <tr><td>12/10/2024</td><td>1,48</td><td>=</td></tr>,\n",
       " <tr><td>13/10/2024</td><td>1,48</td><td>=</td></tr>,\n",
       " <tr><td>14/10/2024</td><td>1,48</td><td>=</td></tr>,\n",
       " <tr><td>15/10/2024</td><td>1,48</td><td>=</td></tr>,\n",
       " <tr><td>16/10/2024</td><td>1,48</td><td>=</td></tr>,\n",
       " <tr><td>17/10/2024</td><td>1,48</td><td>=</td></tr>,\n",
       " <tr><td>18/10/2024</td><td>1,48</td><td>=</td></tr>,\n",
       " <tr><td>19/10/2024</td><td>1,48</td><td>=</td></tr>,\n",
       " <tr><td>20/10/2024</td><td>1,48</td><td>=</td></tr>,\n",
       " <tr><td>21/10/2024</td><td>1,48</td><td>=</td></tr>,\n",
       " <tr><td>22/10/2024</td><td>1,48</td><td>=</td></tr>,\n",
       " <tr><td>23/10/2024</td><td>1,48</td><td>=</td></tr>,\n",
       " <tr><td>24/10/2024</td><td>1,48</td><td>=</td></tr>,\n",
       " <tr><td>25/10/2024</td><td>1,48</td><td>=</td></tr>]"
      ]
     },
     "execution_count": 70,
     "metadata": {},
     "output_type": "execute_result"
    }
   ],
   "source": [
    "valores"
   ]
  },
  {
   "cell_type": "code",
   "execution_count": 71,
   "metadata": {},
   "outputs": [],
   "source": [
    "infos = [i.getText() for i in valores]"
   ]
  },
  {
   "cell_type": "code",
   "execution_count": 82,
   "metadata": {},
   "outputs": [
    {
     "data": {
      "text/plain": [
       "'12/07/20241,45='"
      ]
     },
     "execution_count": 82,
     "metadata": {},
     "output_type": "execute_result"
    }
   ],
   "source": [
    "infos[1].strip()"
   ]
  },
  {
   "cell_type": "code",
   "execution_count": null,
   "metadata": {},
   "outputs": [],
   "source": []
  }
 ],
 "metadata": {
  "kernelspec": {
   "display_name": "Python 3",
   "language": "python",
   "name": "python3"
  },
  "language_info": {
   "codemirror_mode": {
    "name": "ipython",
    "version": 3
   },
   "file_extension": ".py",
   "mimetype": "text/x-python",
   "name": "python",
   "nbconvert_exporter": "python",
   "pygments_lexer": "ipython3",
   "version": "3.11.9"
  }
 },
 "nbformat": 4,
 "nbformat_minor": 2
}
