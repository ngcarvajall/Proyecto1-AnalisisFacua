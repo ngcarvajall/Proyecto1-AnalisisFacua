{
 "cells": [
  {
   "cell_type": "code",
   "execution_count": 1,
   "metadata": {},
   "outputs": [],
   "source": [
    "# Importamos las librerías que necesitamos\n",
    "\n",
    "# Librerías de extracción de datos\n",
    "# -----------------------------------------------------------------------\n",
    "\n",
    "# Importaciones:\n",
    "# Beautifulsoup\n",
    "from bs4 import BeautifulSoup\n",
    "import random\n",
    "# Requests\n",
    "import requests\n",
    "\n",
    "import pandas as pd\n",
    "import numpy as np\n",
    "\n",
    "from time import sleep\n",
    "\n",
    "# Importar librerías para automatización de navegadores web con Selenium\n",
    "# -----------------------------------------------------------------------\n",
    "from selenium import webdriver  # Selenium es una herramienta para automatizar la interacción con navegadores web.\n",
    "from webdriver_manager.chrome import ChromeDriverManager  # ChromeDriverManager gestiona la instalación del controlador de Chrome.\n",
    "from selenium.webdriver.common.keys import Keys  # Keys es útil para simular eventos de teclado en Selenium.\n",
    "from selenium.webdriver.support.ui import Select  # Select se utiliza para interactuar con elementos <select> en páginas web.\n",
    "from selenium.webdriver.support.ui import WebDriverWait\n",
    "from selenium.webdriver.support import expected_conditions as EC\n",
    "from selenium.common.exceptions import NoSuchElementException # Excepciones comunes de selenium que nos podemos encontrar "
   ]
  },
  {
   "cell_type": "code",
   "execution_count": 3,
   "metadata": {},
   "outputs": [],
   "source": [
    "### casi todas lo hacen así, puede que otra no porque percibe las cookies como otra capa\n",
    "driver = webdriver.Chrome()\n",
    "url_wunder = \"https://super.facua.org/\"\n",
    "driver.get(url_wunder)\n",
    "# colocar prints\n",
    "driver.maximize_window()\n",
    "driver.implicitly_wait(5) ### es como un sleep, pero aquí va a intentar lo siguiente durante el tiempo que le digo\n",
    "#aceptamos las cookies\n",
    "### para las cookies\n",
    "### el tiempo de python puede ser diferente al navegador"
   ]
  },
  {
   "cell_type": "code",
   "execution_count": 4,
   "metadata": {},
   "outputs": [
    {
     "name": "stdout",
     "output_type": "stream",
     "text": [
      "No encuentro el botón\n"
     ]
    }
   ],
   "source": [
    "try: \n",
    "    driver.find_element(\"css selector\", 'body > section:nth-child(4) > div > div.row.gx-4.gx-lg-6.row-cols-2.row-cols-md-2.row-cols-xl-6.justify-content-center > div:nth-child(1) > div > div.card-footer.p-4.pt-0.border-top-0.bg-transparent > div > a').click()\n",
    "except:\n",
    "    print('No encuentro el botón')"
   ]
  },
  {
   "cell_type": "code",
   "execution_count": 5,
   "metadata": {},
   "outputs": [],
   "source": [
    "lista_supermercados = ['mercadona', 'carrefour', 'eroski', 'dia', 'hipercor', 'alcampo']"
   ]
  },
  {
   "cell_type": "code",
   "execution_count": 6,
   "metadata": {},
   "outputs": [
    {
     "data": {
      "text/plain": [
       "['https://super.facua.org/mercadona',\n",
       " 'https://super.facua.org/carrefour',\n",
       " 'https://super.facua.org/eroski',\n",
       " 'https://super.facua.org/dia',\n",
       " 'https://super.facua.org/hipercor',\n",
       " 'https://super.facua.org/alcampo']"
      ]
     },
     "execution_count": 6,
     "metadata": {},
     "output_type": "execute_result"
    }
   ],
   "source": [
    "lista_webs = []\n",
    "for i in lista_supermercados:\n",
    "    url_supermercado = f'https://super.facua.org/{i}'\n",
    "    lista_webs.append(url_supermercado)\n",
    "\n",
    "lista_webs\n"
   ]
  },
  {
   "cell_type": "code",
   "execution_count": 8,
   "metadata": {},
   "outputs": [
    {
     "name": "stdout",
     "output_type": "stream",
     "text": [
      "200\n"
     ]
    }
   ],
   "source": [
    "url_mercadona = lista_webs[0]\n",
    "mercadona = requests.get(url_mercadona)\n",
    "print(mercadona.status_code)\n"
   ]
  },
  {
   "cell_type": "code",
   "execution_count": 20,
   "metadata": {},
   "outputs": [],
   "source": [
    "# sacamos nombre zapatillas\n",
    "sopa_mercadona = BeautifulSoup(mercadona.content, \"html.parser\")\n",
    "lista_info = sopa_mercadona.findAll('div', {'class': \"card h-100\"})\n"
   ]
  },
  {
   "cell_type": "code",
   "execution_count": 26,
   "metadata": {},
   "outputs": [
    {
     "data": {
      "text/plain": [
       "<div class=\"card h-100\">\n",
       "<div class=\"card-body p-4\">\n",
       "<img alt=\"precios aceite de girasol en mercadona\" class=\"card-img-top\" src=\"https://super.facua.org/images/aceite-de-girasol.webp\"/>\n",
       "<div class=\"text-center\">\n",
       "<!-- Product name-->\n",
       "<p class=\"fw-bolder\" style=\"color:black\">Aceite de girasol</p>\n",
       "</div>\n",
       "</div>\n",
       "<!-- Product actions-->\n",
       "<div class=\"card-footer p-4 pt-0 border-top-0 bg-transparent\">\n",
       "<div class=\"text-center\"> <a class=\"btn-unirme btn-verde inline-block inline-block bg-primary border-primary font-semibold rounded-full\" href=\"https://super.facua.org/mercadona/aceite-de-girasol/\">Ver</a></div>\n",
       "</div> </div>"
      ]
     },
     "execution_count": 26,
     "metadata": {},
     "output_type": "execute_result"
    }
   ],
   "source": [
    "lista_info[0]"
   ]
  },
  {
   "cell_type": "code",
   "execution_count": 29,
   "metadata": {},
   "outputs": [
    {
     "name": "stdout",
     "output_type": "stream",
     "text": [
      "https://super.facua.org/mercadona/aceite-de-girasol/\n"
     ]
    }
   ],
   "source": [
    "lista_prueba = lista_info[0].find(\"a\").get('href')\n",
    "print(lista_prueba)"
   ]
  },
  {
   "cell_type": "code",
   "execution_count": 23,
   "metadata": {},
   "outputs": [
    {
     "ename": "AttributeError",
     "evalue": "ResultSet object has no attribute 'findAll'. You're probably treating a list of elements like a single element. Did you call find_all() when you meant to call find()?",
     "output_type": "error",
     "traceback": [
      "\u001b[1;31m---------------------------------------------------------------------------\u001b[0m",
      "\u001b[1;31mAttributeError\u001b[0m                            Traceback (most recent call last)",
      "Cell \u001b[1;32mIn[23], line 1\u001b[0m\n\u001b[1;32m----> 1\u001b[0m lista_webs_productos_mercadona \u001b[38;5;241m=\u001b[39m \u001b[43mlista_info\u001b[49m\u001b[38;5;241;43m.\u001b[39;49m\u001b[43mfindAll\u001b[49m(\u001b[38;5;124m\"\u001b[39m\u001b[38;5;124ma\u001b[39m\u001b[38;5;124m\"\u001b[39m)\u001b[38;5;241m.\u001b[39mget(\u001b[38;5;124m'\u001b[39m\u001b[38;5;124mhref\u001b[39m\u001b[38;5;124m'\u001b[39m)\n\u001b[0;32m      2\u001b[0m \u001b[38;5;28mprint\u001b[39m(lista_webs_productos_mercadona)\n",
      "File \u001b[1;32m~\\AppData\\Local\\Packages\\PythonSoftwareFoundation.Python.3.11_qbz5n2kfra8p0\\LocalCache\\local-packages\\Python311\\site-packages\\bs4\\element.py:2433\u001b[0m, in \u001b[0;36mResultSet.__getattr__\u001b[1;34m(self, key)\u001b[0m\n\u001b[0;32m   2431\u001b[0m \u001b[38;5;28;01mdef\u001b[39;00m \u001b[38;5;21m__getattr__\u001b[39m(\u001b[38;5;28mself\u001b[39m, key):\n\u001b[0;32m   2432\u001b[0m \u001b[38;5;250m    \u001b[39m\u001b[38;5;124;03m\"\"\"Raise a helpful exception to explain a common code fix.\"\"\"\u001b[39;00m\n\u001b[1;32m-> 2433\u001b[0m     \u001b[38;5;28;01mraise\u001b[39;00m \u001b[38;5;167;01mAttributeError\u001b[39;00m(\n\u001b[0;32m   2434\u001b[0m         \u001b[38;5;124m\"\u001b[39m\u001b[38;5;124mResultSet object has no attribute \u001b[39m\u001b[38;5;124m'\u001b[39m\u001b[38;5;132;01m%s\u001b[39;00m\u001b[38;5;124m'\u001b[39m\u001b[38;5;124m. You\u001b[39m\u001b[38;5;124m'\u001b[39m\u001b[38;5;124mre probably treating a list of elements like a single element. Did you call find_all() when you meant to call find()?\u001b[39m\u001b[38;5;124m\"\u001b[39m \u001b[38;5;241m%\u001b[39m key\n\u001b[0;32m   2435\u001b[0m     )\n",
      "\u001b[1;31mAttributeError\u001b[0m: ResultSet object has no attribute 'findAll'. You're probably treating a list of elements like a single element. Did you call find_all() when you meant to call find()?"
     ]
    }
   ],
   "source": [
    "lista_webs_merc = []\n",
    "for i in range(3):\n",
    "    lista_webs_productos_mercadona = lista_info[i].findAll(\"a\").get('href')\n",
    "    print(lista_webs_productos_mercadona)\n",
    "\n",
    "lista_nombres = sopa_atrezzo.findAll('a', {'class': 'title'})\n",
    "nombres_objetos = [nombre.getText() for nombre in lista_nombres]\n",
    "\n",
    "lista_info[0]\n",
    "imagenes = lista_info[0].findAll('div', {'class': 'product-image'})"
   ]
  },
  {
   "cell_type": "code",
   "execution_count": null,
   "metadata": {},
   "outputs": [],
   "source": [
    "<div class=\"col mb-5\" bis_skin_checked=\"1\">\n",
    "                        <div class=\"card h-100\" bis_skin_checked=\"1\">\n",
    "                            <div class=\"card-body p-4\" bis_skin_checked=\"1\">\n",
    "                            <img class=\"card-img-top\" src=\"https://super.facua.org/images/aceite-de-girasol.webp\" alt=\"precios aceite de girasol en mercadona\">\n",
    "                                <div class=\"text-center\" bis_skin_checked=\"1\">\n",
    "                                    <!-- Product name-->\n",
    "                                    <p class=\"fw-bolder\" style=\"color:black\">Aceite de girasol</p>\n",
    "                                   \n",
    "                                </div>\n",
    "                            </div>\n",
    "                            <!-- Product actions-->\n",
    "                            <div class=\"card-footer p-4 pt-0 border-top-0 bg-transparent\" bis_skin_checked=\"1\">\n",
    " <div class=\"text-center\" bis_skin_checked=\"1\">  <a class=\"btn-unirme btn-verde inline-block inline-block bg-primary  border-primary font-semibold rounded-full\" href=\"https://super.facua.org/mercadona/aceite-de-girasol/\">Ver</a></div>\n",
    "                            </div> </div>\n",
    "                        </div>"
   ]
  },
  {
   "cell_type": "code",
   "execution_count": null,
   "metadata": {},
   "outputs": [],
   "source": [
    "for i in range(1,101):\n",
    "    url_atrezzo = f'https://atrezzovazquez.es/shop.php?search_type=-1&search_terms=&limit=48&page={i}'\n",
    "    # Paso 2\n",
    "    response = requests.get(url_atrezzo)\n",
    "    # Paso 3\n",
    "    if str(response) == '<Response [200]>':\n",
    "        print(response.status_code)\n",
    "        # Paso 4\n",
    "        sopa_atrezzo = (BeautifulSoup(response.content, 'html.parser'))\n",
    "        df_final = pd.DataFrame()\n",
    "        df_final = web(sopa_atrezzo, df_final)\n",
    "        time.sleep(random.uniform(1,3))\n",
    "    else: \n",
    "        print('Hay un error')\n",
    "        break"
   ]
  },
  {
   "cell_type": "code",
   "execution_count": 7,
   "metadata": {},
   "outputs": [
    {
     "ename": "NameError",
     "evalue": "name 'url_atrezzo' is not defined",
     "output_type": "error",
     "traceback": [
      "\u001b[1;31m---------------------------------------------------------------------------\u001b[0m",
      "\u001b[1;31mNameError\u001b[0m                                 Traceback (most recent call last)",
      "Cell \u001b[1;32mIn[7], line 2\u001b[0m\n\u001b[0;32m      1\u001b[0m \u001b[38;5;66;03m# Paso 2\u001b[39;00m\n\u001b[1;32m----> 2\u001b[0m response \u001b[38;5;241m=\u001b[39m requests\u001b[38;5;241m.\u001b[39mget(\u001b[43murl_atrezzo\u001b[49m)\n\u001b[0;32m      3\u001b[0m \u001b[38;5;66;03m# Paso 3\u001b[39;00m\n\u001b[0;32m      4\u001b[0m \u001b[38;5;28;01mif\u001b[39;00m \u001b[38;5;28mstr\u001b[39m(response) \u001b[38;5;241m==\u001b[39m \u001b[38;5;124m'\u001b[39m\u001b[38;5;124m<Response [200]>\u001b[39m\u001b[38;5;124m'\u001b[39m:\n",
      "\u001b[1;31mNameError\u001b[0m: name 'url_atrezzo' is not defined"
     ]
    }
   ],
   "source": [
    "<div class=\"col mb-5\" bis_skin_checked=\"1\">\n",
    "                        <div class=\"card h-100\" bis_skin_checked=\"1\">\n",
    "                            <div class=\"card-body p-4\" bis_skin_checked=\"1\">\n",
    "                            <img class=\"card-img-top\" src=\"https://super.facua.org/images/aceite-de-girasol.webp\" alt=\"precios aceite de girasol en mercadona\">\n",
    "                                <div class=\"text-center\" bis_skin_checked=\"1\">\n",
    "                                    <!-- Product name-->\n",
    "                                    <p class=\"fw-bolder\" style=\"color:black\">Aceite de girasol</p>\n",
    "                                   \n",
    "                                </div>\n",
    "                            </div>\n",
    "                            <!-- Product actions-->\n",
    "                            <div class=\"card-footer p-4 pt-0 border-top-0 bg-transparent\" bis_skin_checked=\"1\">\n",
    " <div class=\"text-center\" bis_skin_checked=\"1\">  <a class=\"btn-unirme btn-verde inline-block inline-block bg-primary  border-primary font-semibold rounded-full\" href=\"https://super.facua.org/mercadona/aceite-de-girasol/\">Ver</a></div>\n",
    "                            </div> </div>\n",
    "                        </div>"
   ]
  }
 ],
 "metadata": {
  "kernelspec": {
   "display_name": "Python 3",
   "language": "python",
   "name": "python3"
  },
  "language_info": {
   "codemirror_mode": {
    "name": "ipython",
    "version": 3
   },
   "file_extension": ".py",
   "mimetype": "text/x-python",
   "name": "python",
   "nbconvert_exporter": "python",
   "pygments_lexer": "ipython3",
   "version": "3.11.9"
  }
 },
 "nbformat": 4,
 "nbformat_minor": 2
}
