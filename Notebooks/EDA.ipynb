{
 "cells": [
  {
   "cell_type": "code",
   "execution_count": 68,
   "metadata": {},
   "outputs": [],
   "source": [
    "from bs4 import BeautifulSoup\n",
    "import random\n",
    "# Requests\n",
    "import requests\n",
    "from tqdm import tqdm\n",
    "import pandas as pd\n",
    "import numpy as np\n",
    "import sys\n",
    "import psycopg2\n",
    "from psycopg2 import OperationalError, errorcodes, errors\n",
    "import datetime"
   ]
  },
  {
   "cell_type": "code",
   "execution_count": 69,
   "metadata": {},
   "outputs": [],
   "source": [
    "df_categoria = pd.read_csv('../datos/categorias.csv')\n",
    "df_mergeo_1 = pd.read_csv('../datos/precios_mergeo.csv')\n",
    "df_supermercado = pd.read_csv('../datos/supermercados.csv')"
   ]
  },
  {
   "cell_type": "markdown",
   "metadata": {},
   "source": [
    "Conexión a DDBB"
   ]
  },
  {
   "cell_type": "code",
   "execution_count": 86,
   "metadata": {},
   "outputs": [],
   "source": [
    "try:\n",
    "    conexion = psycopg2.connect(\n",
    "    database = 'Supermercados',\n",
    "    user = 'postgres',\n",
    "    password = 'admin',\n",
    "    host = 'localhost',\n",
    "    port = '5432')\n",
    "except OperationalError as e: #el alias es e\n",
    "    if e.pgcode == errorcodes.INVALID_PASSWORD:\n",
    "        print('la contraseña es erronea')\n",
    "    elif e.pgcode == errorcodes.CONNECTION_EXCEPTION:\n",
    "        print('error de conexion')\n",
    "    else:\n",
    "        print(f'el error es el siguiente {e}')"
   ]
  },
  {
   "cell_type": "markdown",
   "metadata": {},
   "source": [
    "Creación de la tabla de supermercados."
   ]
  },
  {
   "cell_type": "code",
   "execution_count": 72,
   "metadata": {},
   "outputs": [],
   "source": [
    "cursor = conexion.cursor() #para crear la tabla desde aquí\n",
    "query_creacion_supermercados = \"\"\" \n",
    "    CREATE TABLE IF NOT EXISTS Supermercado (\n",
    "    Id_Supermercado int PRIMARY KEY,\n",
    "    Supermercado varchar(100));\n",
    "\n",
    "\"\"\"\n",
    "\n",
    "cursor.execute(query_creacion_supermercados)\n",
    "conexion.commit()"
   ]
  },
  {
   "cell_type": "code",
   "execution_count": 73,
   "metadata": {},
   "outputs": [],
   "source": [
    "lista_tuplas2 = []\n",
    "for fila in df_supermercado.values:\n",
    "    lista_tuplas2.append(tuple(fila))"
   ]
  },
  {
   "cell_type": "code",
   "execution_count": 74,
   "metadata": {},
   "outputs": [
    {
     "data": {
      "text/plain": [
       "[(1, 'mercadona'),\n",
       " (2, 'carrefour'),\n",
       " (3, 'eroski'),\n",
       " (4, 'dia'),\n",
       " (5, 'hipercor'),\n",
       " (6, 'alcampo')]"
      ]
     },
     "execution_count": 74,
     "metadata": {},
     "output_type": "execute_result"
    }
   ],
   "source": [
    "lista_tuplas2"
   ]
  },
  {
   "cell_type": "code",
   "execution_count": 75,
   "metadata": {},
   "outputs": [],
   "source": [
    "query_creacion_supermercados = 'INSERT INTO Supermercado (Id_Supermercado, Supermercado) VALUES (%s, %s)' # insertar valores %s es como un formato. como un argumento\n",
    "for valores in lista_tuplas2:\n",
    "    cursor.execute(query_creacion_supermercados, valores)\n",
    "conexion.commit()"
   ]
  },
  {
   "cell_type": "markdown",
   "metadata": {},
   "source": [
    "Creación de la tabla Categorías"
   ]
  },
  {
   "cell_type": "code",
   "execution_count": 76,
   "metadata": {},
   "outputs": [],
   "source": [
    "cursor = conexion.cursor() \n",
    "query_creacion_categorias = \"\"\" \n",
    "    CREATE TABLE IF NOT EXISTS Categoria (\n",
    "    Id_Categoria int PRIMARY KEY,\n",
    "    Categoria varchar(100));\n",
    "\n",
    "\"\"\"\n",
    "cursor.execute(query_creacion_categorias)\n",
    "conexion.commit()\n"
   ]
  },
  {
   "cell_type": "code",
   "execution_count": 77,
   "metadata": {},
   "outputs": [],
   "source": [
    "lista_tuplas3 = []\n",
    "for fila in df_categoria.values:\n",
    "    lista_tuplas3.append(tuple(fila))"
   ]
  },
  {
   "cell_type": "code",
   "execution_count": 78,
   "metadata": {},
   "outputs": [
    {
     "data": {
      "text/plain": [
       "[(1, 'aceite-de-girasol'), (2, 'aceite-de-oliva'), (3, 'leche')]"
      ]
     },
     "execution_count": 78,
     "metadata": {},
     "output_type": "execute_result"
    }
   ],
   "source": [
    "lista_tuplas3"
   ]
  },
  {
   "cell_type": "code",
   "execution_count": 79,
   "metadata": {},
   "outputs": [],
   "source": [
    "query_creacion_categorias = 'INSERT INTO Categoria (Id_Categoria, Categoria) VALUES (%s, %s)' # insertar valores %s es como un formato. como un argumento\n",
    "for valores in lista_tuplas3:\n",
    "    cursor.execute(query_creacion_categorias, valores)\n",
    "conexion.commit()"
   ]
  },
  {
   "cell_type": "code",
   "execution_count": 80,
   "metadata": {},
   "outputs": [],
   "source": [
    "cursor = conexion.cursor() \n",
    "query_creacion_tabla_historica = \"\"\" \n",
    "    CREATE TABLE IF NOT EXISTS datos_historicos (\n",
    "    Fecha DATE,\n",
    "    Precio FLOAT NOT NULL,\n",
    "    Variación FLOAT,\n",
    "    Artículo VARCHAR(300),\n",
    "    Id_Categoria INT,\n",
    "    Id_Supermercado INT,\n",
    "    CONSTRAINT fk_Categoría FOREIGN KEY (Id_Categoria)\n",
    "        REFERENCES Categoria(Id_Categoria),\n",
    "    CONSTRAINT fk_Supermercado FOREIGN KEY (Id_Supermercado)\n",
    "        REFERENCES Supermercado(Id_Supermercado)\n",
    ");\n",
    "\"\"\"\n",
    "\n",
    "cursor.execute(query_creacion_tabla_historica)\n",
    "conexion.commit()\n"
   ]
  },
  {
   "cell_type": "code",
   "execution_count": 81,
   "metadata": {},
   "outputs": [],
   "source": [
    "lista_tuplas1 = []\n",
    "for fila in df_mergeo_1.values:\n",
    "    lista_tuplas1.append(tuple(fila))"
   ]
  },
  {
   "cell_type": "code",
   "execution_count": 82,
   "metadata": {},
   "outputs": [],
   "source": [
    "query_creacion_tabla_historica = 'INSERT INTO datos_historicos (Fecha, Precio, Variación, Artículo, Id_Categoria, Id_Supermercado) VALUES (%s, %s, %s, %s, %s,%s)' # insertar valores %s es como un formato. como un argumento\n",
    "for valores in lista_tuplas1:\n",
    "    cursor.execute(query_creacion_tabla_historica, valores)\n",
    "conexion.commit()"
   ]
  },
  {
   "cell_type": "markdown",
   "metadata": {},
   "source": [
    "Comparar precios entre supermercados: determinar qué supermercados ofrecen los precios más bajos y cuáles son más caros para cada producto."
   ]
  },
  {
   "cell_type": "code",
   "execution_count": 91,
   "metadata": {},
   "outputs": [],
   "source": [
    "cursor = conexion.cursor() \n",
    "query_comparar_precio_super = \"\"\" \n",
    "SELECT min(precio) AS precio_minimo, max(precio) AS precio_maximo, s.supermercado , c.categoria \n",
    "FROM datos_historicos dh \n",
    "inner JOIN supermercado s \n",
    "ON dh.id_supermercado = s.id_supermercado \n",
    "INNER JOIN categoria c \n",
    "ON dh.id_categoria = c.id_categoria \n",
    "GROUP BY c.categoria, s.supermercado \n",
    "ORDER BY c.categoria, s.supermercado ;\n",
    "\"\"\"\n",
    "cursor.execute(query_comparar_precio_super)\n",
    "df_comparar = pd.DataFrame(cursor.fetchall())\n",
    "# cursor.close()\n",
    "# conexion.close()"
   ]
  },
  {
   "cell_type": "code",
   "execution_count": 93,
   "metadata": {},
   "outputs": [
    {
     "data": {
      "text/html": [
       "<div>\n",
       "<style scoped>\n",
       "    .dataframe tbody tr th:only-of-type {\n",
       "        vertical-align: middle;\n",
       "    }\n",
       "\n",
       "    .dataframe tbody tr th {\n",
       "        vertical-align: top;\n",
       "    }\n",
       "\n",
       "    .dataframe thead th {\n",
       "        text-align: right;\n",
       "    }\n",
       "</style>\n",
       "<table border=\"1\" class=\"dataframe\">\n",
       "  <thead>\n",
       "    <tr style=\"text-align: right;\">\n",
       "      <th></th>\n",
       "      <th>0</th>\n",
       "      <th>1</th>\n",
       "      <th>2</th>\n",
       "      <th>3</th>\n",
       "    </tr>\n",
       "  </thead>\n",
       "  <tbody>\n",
       "    <tr>\n",
       "      <th>0</th>\n",
       "      <td>1.00</td>\n",
       "      <td>15.88</td>\n",
       "      <td>alcampo</td>\n",
       "      <td>aceite-de-girasol</td>\n",
       "    </tr>\n",
       "    <tr>\n",
       "      <th>1</th>\n",
       "      <td>1.45</td>\n",
       "      <td>40.67</td>\n",
       "      <td>carrefour</td>\n",
       "      <td>aceite-de-girasol</td>\n",
       "    </tr>\n",
       "    <tr>\n",
       "      <th>2</th>\n",
       "      <td>1.49</td>\n",
       "      <td>10.99</td>\n",
       "      <td>dia</td>\n",
       "      <td>aceite-de-girasol</td>\n",
       "    </tr>\n",
       "    <tr>\n",
       "      <th>3</th>\n",
       "      <td>1.39</td>\n",
       "      <td>11.99</td>\n",
       "      <td>eroski</td>\n",
       "      <td>aceite-de-girasol</td>\n",
       "    </tr>\n",
       "    <tr>\n",
       "      <th>4</th>\n",
       "      <td>1.40</td>\n",
       "      <td>12.79</td>\n",
       "      <td>hipercor</td>\n",
       "      <td>aceite-de-girasol</td>\n",
       "    </tr>\n",
       "  </tbody>\n",
       "</table>\n",
       "</div>"
      ],
      "text/plain": [
       "      0      1          2                  3\n",
       "0  1.00  15.88    alcampo  aceite-de-girasol\n",
       "1  1.45  40.67  carrefour  aceite-de-girasol\n",
       "2  1.49  10.99        dia  aceite-de-girasol\n",
       "3  1.39  11.99     eroski  aceite-de-girasol\n",
       "4  1.40  12.79   hipercor  aceite-de-girasol"
      ]
     },
     "execution_count": 93,
     "metadata": {},
     "output_type": "execute_result"
    }
   ],
   "source": [
    "df_comparar.head()"
   ]
  },
  {
   "cell_type": "markdown",
   "metadata": {},
   "source": [
    "Evolucion de los precios a lo largo del tiempo"
   ]
  },
  {
   "cell_type": "code",
   "execution_count": null,
   "metadata": {},
   "outputs": [],
   "source": []
  }
 ],
 "metadata": {
  "kernelspec": {
   "display_name": "Python 3",
   "language": "python",
   "name": "python3"
  },
  "language_info": {
   "codemirror_mode": {
    "name": "ipython",
    "version": 3
   },
   "file_extension": ".py",
   "mimetype": "text/x-python",
   "name": "python",
   "nbconvert_exporter": "python",
   "pygments_lexer": "ipython3",
   "version": "3.11.9"
  }
 },
 "nbformat": 4,
 "nbformat_minor": 2
}
