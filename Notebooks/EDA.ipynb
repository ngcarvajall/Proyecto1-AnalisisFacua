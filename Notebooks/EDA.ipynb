{
 "cells": [
  {
   "cell_type": "code",
   "execution_count": 13,
   "metadata": {},
   "outputs": [],
   "source": [
    "from bs4 import BeautifulSoup\n",
    "import random\n",
    "# Requests\n",
    "import requests\n",
    "from tqdm import tqdm\n",
    "import pandas as pd\n",
    "import numpy as np\n",
    "import sys\n",
    "import psycopg2\n",
    "from psycopg2 import OperationalError, errorcodes, errors\n",
    "import datetime"
   ]
  },
  {
   "cell_type": "code",
   "execution_count": 14,
   "metadata": {},
   "outputs": [],
   "source": [
    "df_categoria = pd.read_csv('../datos/categorias.csv')\n",
    "df_mergeo_1 = pd.read_csv('../datos/precios_mergeo.csv')\n",
    "df_supermercado = pd.read_csv('../datos/supermercados.csv')"
   ]
  },
  {
   "cell_type": "code",
   "execution_count": 15,
   "metadata": {},
   "outputs": [
    {
     "data": {
      "text/html": [
       "<div>\n",
       "<style scoped>\n",
       "    .dataframe tbody tr th:only-of-type {\n",
       "        vertical-align: middle;\n",
       "    }\n",
       "\n",
       "    .dataframe tbody tr th {\n",
       "        vertical-align: top;\n",
       "    }\n",
       "\n",
       "    .dataframe thead th {\n",
       "        text-align: right;\n",
       "    }\n",
       "</style>\n",
       "<table border=\"1\" class=\"dataframe\">\n",
       "  <thead>\n",
       "    <tr style=\"text-align: right;\">\n",
       "      <th></th>\n",
       "      <th>Id_Categoria</th>\n",
       "      <th>Categoría</th>\n",
       "    </tr>\n",
       "  </thead>\n",
       "  <tbody>\n",
       "    <tr>\n",
       "      <th>0</th>\n",
       "      <td>1</td>\n",
       "      <td>aceite-de-girasol</td>\n",
       "    </tr>\n",
       "    <tr>\n",
       "      <th>1</th>\n",
       "      <td>2</td>\n",
       "      <td>aceite-de-oliva</td>\n",
       "    </tr>\n",
       "    <tr>\n",
       "      <th>2</th>\n",
       "      <td>3</td>\n",
       "      <td>leche</td>\n",
       "    </tr>\n",
       "  </tbody>\n",
       "</table>\n",
       "</div>"
      ],
      "text/plain": [
       "   Id_Categoria          Categoría\n",
       "0             1  aceite-de-girasol\n",
       "1             2    aceite-de-oliva\n",
       "2             3              leche"
      ]
     },
     "execution_count": 15,
     "metadata": {},
     "output_type": "execute_result"
    }
   ],
   "source": [
    "df_categoria"
   ]
  },
  {
   "cell_type": "code",
   "execution_count": 16,
   "metadata": {},
   "outputs": [],
   "source": [
    "try:\n",
    "    conexion = psycopg2.connect(\n",
    "    database = 'Supermercados',\n",
    "    user = 'postgres',\n",
    "    password = 'admin',\n",
    "    host = 'localhost',\n",
    "    port = '5432')\n",
    "except OperationalError as e: #el alias es e\n",
    "    if e.pgcode == errorcodes.INVALID_PASSWORD:\n",
    "        print('la contraseña es erronea')\n",
    "    elif e.pgcode == errorcodes.CONNECTION_EXCEPTION:\n",
    "        print('error de conexion')\n",
    "    else:\n",
    "        print(f'el error es el siguiente {e}')"
   ]
  },
  {
   "cell_type": "markdown",
   "metadata": {},
   "source": [
    "Creación de la tabla de supermercados."
   ]
  },
  {
   "cell_type": "code",
   "execution_count": 17,
   "metadata": {},
   "outputs": [],
   "source": [
    "cursor = conexion.cursor() #para crear la tabla desde aquí\n",
    "query_creacion_supermercados = \"\"\" \n",
    "    CREATE TABLE IF NOT EXISTS Supermercado (\n",
    "    Id_Supermercado int PRIMARY KEY,\n",
    "    Supermercado varchar(100));\n",
    "\n",
    "\"\"\"\n",
    "\n",
    "cursor.execute(query_creacion_supermercados)\n",
    "conexion.commit()"
   ]
  },
  {
   "cell_type": "code",
   "execution_count": 18,
   "metadata": {},
   "outputs": [],
   "source": [
    "lista_tuplas2 = []\n",
    "for fila in df_supermercado.values:\n",
    "    lista_tuplas2.append(tuple(fila))"
   ]
  },
  {
   "cell_type": "code",
   "execution_count": 19,
   "metadata": {},
   "outputs": [
    {
     "data": {
      "text/plain": [
       "[(1, 'mercadona'),\n",
       " (2, 'carrefour'),\n",
       " (3, 'eroski'),\n",
       " (4, 'dia'),\n",
       " (5, 'hipercor'),\n",
       " (6, 'alcampo')]"
      ]
     },
     "execution_count": 19,
     "metadata": {},
     "output_type": "execute_result"
    }
   ],
   "source": [
    "lista_tuplas2"
   ]
  },
  {
   "cell_type": "code",
   "execution_count": 20,
   "metadata": {},
   "outputs": [],
   "source": [
    "query_creacion_supermercados = 'INSERT INTO Supermercado (Id_Supermercado, Supermercado) VALUES (%s, %s)' # insertar valores %s es como un formato. como un argumento\n",
    "for valores in lista_tuplas2:\n",
    "    cursor.execute(query_creacion_supermercados, valores)\n",
    "conexion.commit()"
   ]
  },
  {
   "cell_type": "markdown",
   "metadata": {},
   "source": [
    "Creación de la tabla Categorías"
   ]
  },
  {
   "cell_type": "code",
   "execution_count": 21,
   "metadata": {},
   "outputs": [],
   "source": [
    "cursor = conexion.cursor() \n",
    "query_creacion_categorias = \"\"\" \n",
    "    CREATE TABLE IF NOT EXISTS Categoria (\n",
    "    Id_Categoria int PRIMARY KEY,\n",
    "    Categoria varchar(100));\n",
    "\n",
    "\"\"\"\n",
    "cursor.execute(query_creacion_categorias)\n",
    "conexion.commit()\n"
   ]
  },
  {
   "cell_type": "code",
   "execution_count": 22,
   "metadata": {},
   "outputs": [],
   "source": [
    "lista_tuplas3 = []\n",
    "for fila in df_categoria.values:\n",
    "    lista_tuplas3.append(tuple(fila))"
   ]
  },
  {
   "cell_type": "code",
   "execution_count": 23,
   "metadata": {},
   "outputs": [
    {
     "data": {
      "text/plain": [
       "[(1, 'aceite-de-girasol'), (2, 'aceite-de-oliva'), (3, 'leche')]"
      ]
     },
     "execution_count": 23,
     "metadata": {},
     "output_type": "execute_result"
    }
   ],
   "source": [
    "lista_tuplas3"
   ]
  },
  {
   "cell_type": "code",
   "execution_count": 24,
   "metadata": {},
   "outputs": [
    {
     "ename": "UndefinedColumn",
     "evalue": "no existe la columna «id_categoría» en la relación «categoria»\nLINE 1: INSERT INTO Categoria (Id_Categoría, Categoria) VALUES (1, '...\n                               ^\n",
     "output_type": "error",
     "traceback": [
      "\u001b[1;31m---------------------------------------------------------------------------\u001b[0m",
      "\u001b[1;31mUndefinedColumn\u001b[0m                           Traceback (most recent call last)",
      "Cell \u001b[1;32mIn[24], line 3\u001b[0m\n\u001b[0;32m      1\u001b[0m query_creacion_categorias \u001b[38;5;241m=\u001b[39m \u001b[38;5;124m'\u001b[39m\u001b[38;5;124mINSERT INTO Categoria (Id_Categoría, Categoria) VALUES (\u001b[39m\u001b[38;5;132;01m%s\u001b[39;00m\u001b[38;5;124m, \u001b[39m\u001b[38;5;132;01m%s\u001b[39;00m\u001b[38;5;124m)\u001b[39m\u001b[38;5;124m'\u001b[39m \u001b[38;5;66;03m# insertar valores %s es como un formato. como un argumento\u001b[39;00m\n\u001b[0;32m      2\u001b[0m \u001b[38;5;28;01mfor\u001b[39;00m valores \u001b[38;5;129;01min\u001b[39;00m lista_tuplas3:\n\u001b[1;32m----> 3\u001b[0m     \u001b[43mcursor\u001b[49m\u001b[38;5;241;43m.\u001b[39;49m\u001b[43mexecute\u001b[49m\u001b[43m(\u001b[49m\u001b[43mquery_creacion_categorias\u001b[49m\u001b[43m,\u001b[49m\u001b[43m \u001b[49m\u001b[43mvalores\u001b[49m\u001b[43m)\u001b[49m\n\u001b[0;32m      4\u001b[0m conexion\u001b[38;5;241m.\u001b[39mcommit()\n",
      "\u001b[1;31mUndefinedColumn\u001b[0m: no existe la columna «id_categoría» en la relación «categoria»\nLINE 1: INSERT INTO Categoria (Id_Categoría, Categoria) VALUES (1, '...\n                               ^\n"
     ]
    }
   ],
   "source": [
    "query_creacion_categorias = 'INSERT INTO Categoria (Id_Categoria, Categoria) VALUES (%s, %s)' # insertar valores %s es como un formato. como un argumento\n",
    "for valores in lista_tuplas3:\n",
    "    cursor.execute(query_creacion_categorias, valores)\n",
    "conexion.commit()"
   ]
  },
  {
   "cell_type": "code",
   "execution_count": null,
   "metadata": {},
   "outputs": [
    {
     "ename": "SyntaxError",
     "evalue": "error de sintaxis en o cerca de «Id_Supermercado»\nLINE 8:     Id_Supermercado INT);\n            ^\n",
     "output_type": "error",
     "traceback": [
      "\u001b[1;31m---------------------------------------------------------------------------\u001b[0m\n",
      "\u001b[1;31mSyntaxError\u001b[0m                               Traceback (most recent call last)\n",
      "Cell \u001b[1;32mIn[62], line 16\u001b[0m\n",
      "\u001b[0;32m      1\u001b[0m cursor \u001b[38;5;241m=\u001b[39m conexion\u001b[38;5;241m.\u001b[39mcursor() \u001b[38;5;66;03m#para crear la tabla desde aquí\u001b[39;00m\n",
      "\u001b[0;32m      2\u001b[0m query_creacion_tabla_historica \u001b[38;5;241m=\u001b[39m \u001b[38;5;124m\"\"\"\u001b[39m\u001b[38;5;124m \u001b[39m\n",
      "\u001b[0;32m      3\u001b[0m \u001b[38;5;124m    CREATE TABLE IF NOT EXISTS datos_historicos (\u001b[39m\n",
      "\u001b[0;32m      4\u001b[0m \u001b[38;5;124m    Fecha DATE,\u001b[39m\n",
      "\u001b[1;32m   (...)\u001b[0m\n",
      "\u001b[0;32m     13\u001b[0m \u001b[38;5;124m        REFERENCES cielo(id_cielo),\u001b[39m\n",
      "\u001b[0;32m     14\u001b[0m \u001b[38;5;124m\"\"\"\u001b[39m\n",
      "\u001b[1;32m---> 16\u001b[0m \u001b[43mcursor\u001b[49m\u001b[38;5;241;43m.\u001b[39;49m\u001b[43mexecute\u001b[49m\u001b[43m(\u001b[49m\u001b[43mquery_creacion_tabla_historica\u001b[49m\u001b[43m)\u001b[49m\n",
      "\u001b[0;32m     17\u001b[0m conexion\u001b[38;5;241m.\u001b[39mcommit()\n",
      "\n",
      "\u001b[1;31mSyntaxError\u001b[0m: error de sintaxis en o cerca de «Id_Supermercado»\n",
      "LINE 8:     Id_Supermercado INT);\n",
      "            ^\n"
     ]
    }
   ],
   "source": [
    "cursor = conexion.cursor() #para crear la tabla desde aquí\n",
    "query_creacion_tabla_historica = \"\"\" \n",
    "    CREATE TABLE IF NOT EXISTS datos_historicos (\n",
    "    Fecha DATE,\n",
    "    Precio INT NOT NULL,\n",
    "    Variación FLOAT,\n",
    "    Artículo VARCHAR(100),\n",
    "    Id_Categoria INT,\n",
    "    Id_Supermercado INT),\n",
    "    CONSTRAINT fk_Categoría FOREIGN KEY (Id_Categoria)\n",
    "        REFERENCES Categoria(Id_Categoria),\n",
    "    CONSTRAINT fk_Supermercado FOREIGN KEY (Id_Supermercado)\n",
    "        REFERENCES Supermercado(Id_Supermercado)\n",
    ");\n",
    "\"\"\"\n",
    "\n",
    "cursor.execute(query_creacion_tabla_historica)\n",
    "conexion.commit()\n"
   ]
  },
  {
   "cell_type": "code",
   "execution_count": null,
   "metadata": {},
   "outputs": [],
   "source": [
    "lista_tuplas1 = []\n",
    "for fila in df_mergeo_1.values:\n",
    "    lista_tuplas1.append(tuple(fila))"
   ]
  },
  {
   "cell_type": "code",
   "execution_count": null,
   "metadata": {},
   "outputs": [],
   "source": [
    "query_creacion_tabla_historica = 'INSERT INTO datos_historicos (Fecha, Precio, Variación, Artículo, Id_Categoria, Id_Supermercado) VALUES (%s, %s, %s, %s, %s,%s)' # insertar valores %s es como un formato. como un argumento\n",
    "for valores in lista_tuplas1:\n",
    "    cursor.execute(query_creacion_tabla_historica, valores)\n",
    "conexion.commit()"
   ]
  }
 ],
 "metadata": {
  "kernelspec": {
   "display_name": "Python 3",
   "language": "python",
   "name": "python3"
  },
  "language_info": {
   "codemirror_mode": {
    "name": "ipython",
    "version": 3
   },
   "file_extension": ".py",
   "mimetype": "text/x-python",
   "name": "python",
   "nbconvert_exporter": "python",
   "pygments_lexer": "ipython3",
   "version": "3.11.9"
  }
 },
 "nbformat": 4,
 "nbformat_minor": 2
}
