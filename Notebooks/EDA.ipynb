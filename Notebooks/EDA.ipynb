{
 "cells": [
  {
   "cell_type": "code",
   "execution_count": 68,
   "metadata": {},
   "outputs": [],
   "source": [
    "from bs4 import BeautifulSoup\n",
    "import random\n",
    "# Requests\n",
    "import requests\n",
    "from tqdm import tqdm\n",
    "import pandas as pd\n",
    "import numpy as np\n",
    "import sys\n",
    "import psycopg2\n",
    "from psycopg2 import OperationalError, errorcodes, errors\n",
    "import datetime"
   ]
  },
  {
   "cell_type": "code",
   "execution_count": 69,
   "metadata": {},
   "outputs": [],
   "source": [
    "df_categoria = pd.read_csv('../datos/categorias.csv')\n",
    "df_mergeo_1 = pd.read_csv('../datos/precios_mergeo.csv')\n",
    "df_supermercado = pd.read_csv('../datos/supermercados.csv')"
   ]
  },
  {
   "cell_type": "markdown",
   "metadata": {},
   "source": [
    "Conexión a DDBB"
   ]
  },
  {
   "cell_type": "code",
   "execution_count": 71,
   "metadata": {},
   "outputs": [],
   "source": [
    "try:\n",
    "    conexion = psycopg2.connect(\n",
    "    database = 'Supermercados',\n",
    "    user = 'postgres',\n",
    "    password = 'admin',\n",
    "    host = 'localhost',\n",
    "    port = '5432')\n",
    "except OperationalError as e: #el alias es e\n",
    "    if e.pgcode == errorcodes.INVALID_PASSWORD:\n",
    "        print('la contraseña es erronea')\n",
    "    elif e.pgcode == errorcodes.CONNECTION_EXCEPTION:\n",
    "        print('error de conexion')\n",
    "    else:\n",
    "        print(f'el error es el siguiente {e}')"
   ]
  },
  {
   "cell_type": "markdown",
   "metadata": {},
   "source": [
    "Creación de la tabla de supermercados."
   ]
  },
  {
   "cell_type": "code",
   "execution_count": 72,
   "metadata": {},
   "outputs": [],
   "source": [
    "cursor = conexion.cursor() #para crear la tabla desde aquí\n",
    "query_creacion_supermercados = \"\"\" \n",
    "    CREATE TABLE IF NOT EXISTS Supermercado (\n",
    "    Id_Supermercado int PRIMARY KEY,\n",
    "    Supermercado varchar(100));\n",
    "\n",
    "\"\"\"\n",
    "\n",
    "cursor.execute(query_creacion_supermercados)\n",
    "conexion.commit()"
   ]
  },
  {
   "cell_type": "code",
   "execution_count": 73,
   "metadata": {},
   "outputs": [],
   "source": [
    "lista_tuplas2 = []\n",
    "for fila in df_supermercado.values:\n",
    "    lista_tuplas2.append(tuple(fila))"
   ]
  },
  {
   "cell_type": "code",
   "execution_count": 74,
   "metadata": {},
   "outputs": [
    {
     "data": {
      "text/plain": [
       "[(1, 'mercadona'),\n",
       " (2, 'carrefour'),\n",
       " (3, 'eroski'),\n",
       " (4, 'dia'),\n",
       " (5, 'hipercor'),\n",
       " (6, 'alcampo')]"
      ]
     },
     "execution_count": 74,
     "metadata": {},
     "output_type": "execute_result"
    }
   ],
   "source": [
    "lista_tuplas2"
   ]
  },
  {
   "cell_type": "code",
   "execution_count": 75,
   "metadata": {},
   "outputs": [],
   "source": [
    "query_creacion_supermercados = 'INSERT INTO Supermercado (Id_Supermercado, Supermercado) VALUES (%s, %s)' # insertar valores %s es como un formato. como un argumento\n",
    "for valores in lista_tuplas2:\n",
    "    cursor.execute(query_creacion_supermercados, valores)\n",
    "conexion.commit()"
   ]
  },
  {
   "cell_type": "markdown",
   "metadata": {},
   "source": [
    "Creación de la tabla Categorías"
   ]
  },
  {
   "cell_type": "code",
   "execution_count": 76,
   "metadata": {},
   "outputs": [],
   "source": [
    "cursor = conexion.cursor() \n",
    "query_creacion_categorias = \"\"\" \n",
    "    CREATE TABLE IF NOT EXISTS Categoria (\n",
    "    Id_Categoria int PRIMARY KEY,\n",
    "    Categoria varchar(100));\n",
    "\n",
    "\"\"\"\n",
    "cursor.execute(query_creacion_categorias)\n",
    "conexion.commit()\n"
   ]
  },
  {
   "cell_type": "code",
   "execution_count": 77,
   "metadata": {},
   "outputs": [],
   "source": [
    "lista_tuplas3 = []\n",
    "for fila in df_categoria.values:\n",
    "    lista_tuplas3.append(tuple(fila))"
   ]
  },
  {
   "cell_type": "code",
   "execution_count": 78,
   "metadata": {},
   "outputs": [
    {
     "data": {
      "text/plain": [
       "[(1, 'aceite-de-girasol'), (2, 'aceite-de-oliva'), (3, 'leche')]"
      ]
     },
     "execution_count": 78,
     "metadata": {},
     "output_type": "execute_result"
    }
   ],
   "source": [
    "lista_tuplas3"
   ]
  },
  {
   "cell_type": "code",
   "execution_count": 79,
   "metadata": {},
   "outputs": [],
   "source": [
    "query_creacion_categorias = 'INSERT INTO Categoria (Id_Categoria, Categoria) VALUES (%s, %s)' # insertar valores %s es como un formato. como un argumento\n",
    "for valores in lista_tuplas3:\n",
    "    cursor.execute(query_creacion_categorias, valores)\n",
    "conexion.commit()"
   ]
  },
  {
   "cell_type": "code",
   "execution_count": 80,
   "metadata": {},
   "outputs": [],
   "source": [
    "cursor = conexion.cursor() #para crear la tabla desde aquí\n",
    "query_creacion_tabla_historica = \"\"\" \n",
    "    CREATE TABLE IF NOT EXISTS datos_historicos (\n",
    "    Fecha DATE,\n",
    "    Precio FLOAT NOT NULL,\n",
    "    Variación FLOAT,\n",
    "    Artículo VARCHAR(300),\n",
    "    Id_Categoria INT,\n",
    "    Id_Supermercado INT,\n",
    "    CONSTRAINT fk_Categoría FOREIGN KEY (Id_Categoria)\n",
    "        REFERENCES Categoria(Id_Categoria),\n",
    "    CONSTRAINT fk_Supermercado FOREIGN KEY (Id_Supermercado)\n",
    "        REFERENCES Supermercado(Id_Supermercado)\n",
    ");\n",
    "\"\"\"\n",
    "\n",
    "cursor.execute(query_creacion_tabla_historica)\n",
    "conexion.commit()\n"
   ]
  },
  {
   "cell_type": "code",
   "execution_count": 81,
   "metadata": {},
   "outputs": [],
   "source": [
    "lista_tuplas1 = []\n",
    "for fila in df_mergeo_1.values:\n",
    "    lista_tuplas1.append(tuple(fila))"
   ]
  },
  {
   "cell_type": "code",
   "execution_count": 82,
   "metadata": {},
   "outputs": [],
   "source": [
    "query_creacion_tabla_historica = 'INSERT INTO datos_historicos (Fecha, Precio, Variación, Artículo, Id_Categoria, Id_Supermercado) VALUES (%s, %s, %s, %s, %s,%s)' # insertar valores %s es como un formato. como un argumento\n",
    "for valores in lista_tuplas1:\n",
    "    cursor.execute(query_creacion_tabla_historica, valores)\n",
    "conexion.commit()"
   ]
  }
 ],
 "metadata": {
  "kernelspec": {
   "display_name": "Python 3",
   "language": "python",
   "name": "python3"
  },
  "language_info": {
   "codemirror_mode": {
    "name": "ipython",
    "version": 3
   },
   "file_extension": ".py",
   "mimetype": "text/x-python",
   "name": "python",
   "nbconvert_exporter": "python",
   "pygments_lexer": "ipython3",
   "version": "3.11.9"
  }
 },
 "nbformat": 4,
 "nbformat_minor": 2
}
